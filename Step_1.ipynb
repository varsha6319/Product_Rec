{
  "nbformat": 4,
  "nbformat_minor": 0,
  "metadata": {
    "colab": {
      "provenance": [],
      "machine_shape": "hm",
      "authorship_tag": "ABX9TyOHfB6I0rW7ASXHSVZCI98T",
      "include_colab_link": true
    },
    "kernelspec": {
      "name": "python3",
      "display_name": "Python 3"
    },
    "language_info": {
      "name": "python"
    }
  },
  "cells": [
    {
      "cell_type": "markdown",
      "metadata": {
        "id": "view-in-github",
        "colab_type": "text"
      },
      "source": [
        "<a href=\"https://colab.research.google.com/github/varsha6319/Product_Rec/blob/main/Step_1.ipynb\" target=\"_parent\"><img src=\"https://colab.research.google.com/assets/colab-badge.svg\" alt=\"Open In Colab\"/></a>"
      ]
    },
    {
      "cell_type": "code",
      "execution_count": 1,
      "metadata": {
        "id": "d8L6CxcD09NF",
        "colab": {
          "base_uri": "https://localhost:8080/"
        },
        "outputId": "fb1108e8-5e3e-40c7-982e-25cebbe02068"
      },
      "outputs": [
        {
          "output_type": "stream",
          "name": "stdout",
          "text": [
            "Mounted at /content/drive\n"
          ]
        }
      ],
      "source": [
        "from google.colab import drive\n",
        "drive.mount('/content/drive')"
      ]
    },
    {
      "cell_type": "code",
      "source": [
        "# # Step 1: Install PySpark\n",
        "# !pip install pyspark"
      ],
      "metadata": {
        "id": "PLXkeJWy41Rj"
      },
      "execution_count": 2,
      "outputs": []
    },
    {
      "cell_type": "code",
      "source": [
        "!pip install pyspark==3.3.0"
      ],
      "metadata": {
        "id": "MbfnHyZoX8z1",
        "colab": {
          "base_uri": "https://localhost:8080/"
        },
        "outputId": "adf29e72-b5e4-4b7f-e7ca-9b31393d28c7"
      },
      "execution_count": 2,
      "outputs": [
        {
          "output_type": "stream",
          "name": "stdout",
          "text": [
            "Collecting pyspark==3.3.0\n",
            "  Downloading pyspark-3.3.0.tar.gz (281.3 MB)\n",
            "\u001b[2K     \u001b[90m━━━━━━━━━━━━━━━━━━━━━━━━━━━━━━━━━━━━━━━━\u001b[0m \u001b[32m281.3/281.3 MB\u001b[0m \u001b[31m1.9 MB/s\u001b[0m eta \u001b[36m0:00:00\u001b[0m\n",
            "\u001b[?25h  Preparing metadata (setup.py) ... \u001b[?25l\u001b[?25hdone\n",
            "Collecting py4j==0.10.9.5 (from pyspark==3.3.0)\n",
            "  Downloading py4j-0.10.9.5-py2.py3-none-any.whl (199 kB)\n",
            "\u001b[2K     \u001b[90m━━━━━━━━━━━━━━━━━━━━━━━━━━━━━━━━━━━━━━━━\u001b[0m \u001b[32m199.7/199.7 kB\u001b[0m \u001b[31m23.0 MB/s\u001b[0m eta \u001b[36m0:00:00\u001b[0m\n",
            "\u001b[?25hBuilding wheels for collected packages: pyspark\n",
            "  Building wheel for pyspark (setup.py) ... \u001b[?25l\u001b[?25hdone\n",
            "  Created wheel for pyspark: filename=pyspark-3.3.0-py2.py3-none-any.whl size=281764004 sha256=71339a4d92f48bdfa177bdd2d45d50328bd2e7843d828457100508ed9615612e\n",
            "  Stored in directory: /root/.cache/pip/wheels/81/9c/6c/d5200fcf351ffa39cbe09911e99703283624cd037df58070d9\n",
            "Successfully built pyspark\n",
            "Installing collected packages: py4j, pyspark\n",
            "  Attempting uninstall: py4j\n",
            "    Found existing installation: py4j 0.10.9.7\n",
            "    Uninstalling py4j-0.10.9.7:\n",
            "      Successfully uninstalled py4j-0.10.9.7\n",
            "Successfully installed py4j-0.10.9.5 pyspark-3.3.0\n"
          ]
        }
      ]
    },
    {
      "cell_type": "code",
      "source": [
        "from pyspark.sql import SparkSession\n",
        "from pyspark.sql import functions as F\n",
        "from pyspark.sql.functions import col, when, to_date, percentile_approx, round, concat_ws\n",
        "from pyspark.ml.feature import StringIndexer, OneHotEncoder, VectorAssembler\n",
        "from pyspark.ml import Pipeline\n",
        "from pyspark.ml.classification import RandomForestClassifier\n",
        "\n",
        "import zipfile\n",
        "import os\n",
        "import matplotlib.pyplot as plt\n"
      ],
      "metadata": {
        "id": "hjFuf0RS42xC"
      },
      "execution_count": 3,
      "outputs": []
    },
    {
      "cell_type": "code",
      "source": [
        "spark = SparkSession.builder \\\n",
        "    .appName(\"RandomForest_GPU\") \\\n",
        "    .config(\"spark.executor.memory\", \"32g\") \\\n",
        "    .config(\"spark.executor.cores\", \"4\") \\\n",
        "    .config(\"spark.ui.port\", \"4040\").getOrCreate()"
      ],
      "metadata": {
        "id": "3bYnghNyTXDI"
      },
      "execution_count": 4,
      "outputs": []
    },
    {
      "cell_type": "code",
      "source": [
        "# Function to unzip the file\n",
        "def unzip_file(zip_path, output_dir):\n",
        "    with zipfile.ZipFile(zip_path, 'r') as zip_ref:\n",
        "        zip_ref.extractall(output_dir)\n",
        "\n",
        "train_data_path = \"/content/drive/My Drive/santander-product-recommendation/train_ver2.csv.zip\"\n",
        "test_data_path = \"/content/drive/My Drive/santander-product-recommendation/test_ver2.csv.zip\"\n",
        "\n",
        "# Unzip train and test data files\n",
        "train_unzipped_dir = \"/content/train_data\"\n",
        "test_unzipped_dir = \"/content/test_data\"\n",
        "unzip_file(train_data_path, train_unzipped_dir)\n",
        "unzip_file(test_data_path, test_unzipped_dir)\n",
        "\n",
        "train_csv_path = os.path.join(train_unzipped_dir, os.listdir(train_unzipped_dir)[0])\n",
        "test_csv_path = os.path.join(test_unzipped_dir, os.listdir(test_unzipped_dir)[0])\n",
        "\n",
        "# Read train and test data from CSV files\n",
        "train_df = spark.read.option(\"header\", True).csv(train_csv_path, inferSchema=True)\n",
        "test_df = spark.read.option(\"header\", True).csv(test_csv_path, inferSchema=True)\n"
      ],
      "metadata": {
        "id": "3kc4TL5pldsi"
      },
      "execution_count": 5,
      "outputs": []
    },
    {
      "cell_type": "code",
      "source": [
        "train_df.printSchema()\n",
        "test_df.printSchema()"
      ],
      "metadata": {
        "id": "mWQ2cWLNllhe",
        "colab": {
          "base_uri": "https://localhost:8080/"
        },
        "outputId": "48b8099d-4841-4679-f90a-684004063dac"
      },
      "execution_count": 6,
      "outputs": [
        {
          "output_type": "stream",
          "name": "stdout",
          "text": [
            "root\n",
            " |-- fecha_dato: timestamp (nullable = true)\n",
            " |-- ncodpers: double (nullable = true)\n",
            " |-- ind_empleado: string (nullable = true)\n",
            " |-- pais_residencia: string (nullable = true)\n",
            " |-- sexo: string (nullable = true)\n",
            " |-- age: string (nullable = true)\n",
            " |-- fecha_alta: timestamp (nullable = true)\n",
            " |-- ind_nuevo: string (nullable = true)\n",
            " |-- antiguedad: string (nullable = true)\n",
            " |-- indrel: string (nullable = true)\n",
            " |-- ult_fec_cli_1t: timestamp (nullable = true)\n",
            " |-- indrel_1mes: string (nullable = true)\n",
            " |-- tiprel_1mes: string (nullable = true)\n",
            " |-- indresi: string (nullable = true)\n",
            " |-- indext: string (nullable = true)\n",
            " |-- conyuemp: string (nullable = true)\n",
            " |-- canal_entrada: string (nullable = true)\n",
            " |-- indfall: string (nullable = true)\n",
            " |-- tipodom: string (nullable = true)\n",
            " |-- cod_prov: string (nullable = true)\n",
            " |-- nomprov: string (nullable = true)\n",
            " |-- ind_actividad_cliente: string (nullable = true)\n",
            " |-- renta: double (nullable = true)\n",
            " |-- segmento: string (nullable = true)\n",
            " |-- ind_ahor_fin_ult1: integer (nullable = true)\n",
            " |-- ind_aval_fin_ult1: integer (nullable = true)\n",
            " |-- ind_cco_fin_ult1: integer (nullable = true)\n",
            " |-- ind_cder_fin_ult1: integer (nullable = true)\n",
            " |-- ind_cno_fin_ult1: integer (nullable = true)\n",
            " |-- ind_ctju_fin_ult1: integer (nullable = true)\n",
            " |-- ind_ctma_fin_ult1: integer (nullable = true)\n",
            " |-- ind_ctop_fin_ult1: integer (nullable = true)\n",
            " |-- ind_ctpp_fin_ult1: integer (nullable = true)\n",
            " |-- ind_deco_fin_ult1: integer (nullable = true)\n",
            " |-- ind_deme_fin_ult1: integer (nullable = true)\n",
            " |-- ind_dela_fin_ult1: integer (nullable = true)\n",
            " |-- ind_ecue_fin_ult1: integer (nullable = true)\n",
            " |-- ind_fond_fin_ult1: integer (nullable = true)\n",
            " |-- ind_hip_fin_ult1: integer (nullable = true)\n",
            " |-- ind_plan_fin_ult1: integer (nullable = true)\n",
            " |-- ind_pres_fin_ult1: integer (nullable = true)\n",
            " |-- ind_reca_fin_ult1: integer (nullable = true)\n",
            " |-- ind_tjcr_fin_ult1: integer (nullable = true)\n",
            " |-- ind_valo_fin_ult1: integer (nullable = true)\n",
            " |-- ind_viv_fin_ult1: integer (nullable = true)\n",
            " |-- ind_nomina_ult1: string (nullable = true)\n",
            " |-- ind_nom_pens_ult1: string (nullable = true)\n",
            " |-- ind_recibo_ult1: integer (nullable = true)\n",
            "\n",
            "root\n",
            " |-- fecha_dato: timestamp (nullable = true)\n",
            " |-- ncodpers: double (nullable = true)\n",
            " |-- ind_empleado: string (nullable = true)\n",
            " |-- pais_residencia: string (nullable = true)\n",
            " |-- sexo: string (nullable = true)\n",
            " |-- age: double (nullable = true)\n",
            " |-- fecha_alta: timestamp (nullable = true)\n",
            " |-- ind_nuevo: integer (nullable = true)\n",
            " |-- antiguedad: double (nullable = true)\n",
            " |-- indrel: double (nullable = true)\n",
            " |-- ult_fec_cli_1t: timestamp (nullable = true)\n",
            " |-- indrel_1mes: double (nullable = true)\n",
            " |-- tiprel_1mes: string (nullable = true)\n",
            " |-- indresi: string (nullable = true)\n",
            " |-- indext: string (nullable = true)\n",
            " |-- conyuemp: string (nullable = true)\n",
            " |-- canal_entrada: string (nullable = true)\n",
            " |-- indfall: string (nullable = true)\n",
            " |-- tipodom: integer (nullable = true)\n",
            " |-- cod_prov: string (nullable = true)\n",
            " |-- nomprov: string (nullable = true)\n",
            " |-- ind_actividad_cliente: integer (nullable = true)\n",
            " |-- renta: string (nullable = true)\n",
            " |-- segmento: string (nullable = true)\n",
            "\n"
          ]
        }
      ]
    },
    {
      "cell_type": "code",
      "source": [
        "column_mapping = {\n",
        "    \"fecha_dato\": \"date\",\n",
        "    \"ncodpers\": \"customer_code\",\n",
        "    \"ind_empleado\": \"employee_index\",\n",
        "    \"pais_residencia\": \"country_residence\",\n",
        "    \"sexo\": \"sex\",\n",
        "    \"age\": \"age\",\n",
        "    \"fecha_alta\": \"first_contract_date\",\n",
        "    \"ind_nuevo\": \"new_customer_index\",\n",
        "    \"antiguedad\": \"customer_seniority\",\n",
        "    \"indrel\": \"primary_customer_index\",\n",
        "    \"ult_fec_cli_1t\": \"last_primary_date\",\n",
        "    \"indrel_1mes\": \"customer_type_start_month\",\n",
        "    \"tiprel_1mes\": \"customer_relation_type_start_month\",\n",
        "    \"indresi\": \"residence_index\",\n",
        "    \"indext\": \"foreigner_index\",\n",
        "    \"conyuemp\": \"spouse_employee_index\",\n",
        "    \"canal_entrada\": \"entry_channel\",\n",
        "    \"indfall\": \"deceased_index\",\n",
        "    \"tipodom\": \"address_type\",\n",
        "    \"cod_prov\": \"province_code\",\n",
        "    \"nomprov\": \"province_name\",\n",
        "    \"ind_actividad_cliente\": \"customer_activity_index\",\n",
        "    \"renta\": \"household_income\",\n",
        "    \"segmento\": \"customer_segment\",\n",
        "    \"ind_ahor_fin_ult1\": \"savings_account\",\n",
        "    \"ind_aval_fin_ult1\": \"guarantees\",\n",
        "    \"ind_cco_fin_ult1\": \"current_accounts\",\n",
        "    \"ind_cder_fin_ult1\": \"derivada_account\",\n",
        "    \"ind_cno_fin_ult1\": \"payroll_account\",\n",
        "    \"ind_ctju_fin_ult1\": \"junior_account\",\n",
        "    \"ind_ctma_fin_ult1\": \"mas_particular_account\",\n",
        "    \"ind_ctop_fin_ult1\": \"particular_account\",\n",
        "    \"ind_ctpp_fin_ult1\": \"particular_plus_account\",\n",
        "    \"ind_deco_fin_ult1\": \"short_term_deposits\",\n",
        "    \"ind_deme_fin_ult1\": \"medium_term_deposits\",\n",
        "    \"ind_dela_fin_ult1\": \"long_term_deposits\",\n",
        "    \"ind_ecue_fin_ult1\": \"e_account\",\n",
        "    \"ind_fond_fin_ult1\": \"funds\",\n",
        "    \"ind_hip_fin_ult1\": \"mortgage\",\n",
        "    \"ind_plan_fin_ult1\": \"pension_plans\",\n",
        "    \"ind_pres_fin_ult1\": \"loans\",\n",
        "    \"ind_reca_fin_ult1\": \"taxes\",\n",
        "    \"ind_tjcr_fin_ult1\": \"credit_card\",\n",
        "    \"ind_valo_fin_ult1\": \"securities\",\n",
        "    \"ind_viv_fin_ult1\": \"home_account\",\n",
        "    \"ind_nomina_ult1\": \"payroll\",\n",
        "    \"ind_nom_pens_ult1\": \"pensions_nom\",\n",
        "    \"ind_recibo_ult1\": \"direct_debit\"\n",
        "}"
      ],
      "metadata": {
        "id": "gQUEOKnH2llQ"
      },
      "execution_count": 7,
      "outputs": []
    },
    {
      "cell_type": "code",
      "source": [
        "for old_col, new_col in column_mapping.items():\n",
        "  train_df = train_df.withColumnRenamed(old_col, new_col)\n",
        "\n",
        "train_df.show()"
      ],
      "metadata": {
        "id": "sjFnOVUtJf8d",
        "colab": {
          "base_uri": "https://localhost:8080/"
        },
        "outputId": "7c0aa8bb-009b-4367-dc59-48c8b3b7a762"
      },
      "execution_count": 8,
      "outputs": [
        {
          "output_type": "stream",
          "name": "stdout",
          "text": [
            "+-------------------+-------------+--------------+-----------------+---+---+-------------------+------------------+------------------+----------------------+-----------------+-------------------------+----------------------------------+---------------+---------------+---------------------+-------------+--------------+------------+-------------+-------------+-----------------------+------------------+------------------+---------------+----------+----------------+----------------+---------------+--------------+----------------------+------------------+-----------------------+-------------------+--------------------+------------------+---------+-----+--------+-------------+-----+-----+-----------+----------+------------+-------+------------+------------+\n",
            "|               date|customer_code|employee_index|country_residence|sex|age|first_contract_date|new_customer_index|customer_seniority|primary_customer_index|last_primary_date|customer_type_start_month|customer_relation_type_start_month|residence_index|foreigner_index|spouse_employee_index|entry_channel|deceased_index|address_type|province_code|province_name|customer_activity_index|  household_income|  customer_segment|savings_account|guarantees|current_accounts|derivada_account|payroll_account|junior_account|mas_particular_account|particular_account|particular_plus_account|short_term_deposits|medium_term_deposits|long_term_deposits|e_account|funds|mortgage|pension_plans|loans|taxes|credit_card|securities|home_account|payroll|pensions_nom|direct_debit|\n",
            "+-------------------+-------------+--------------+-----------------+---+---+-------------------+------------------+------------------+----------------------+-----------------+-------------------------+----------------------------------+---------------+---------------+---------------------+-------------+--------------+------------+-------------+-------------+-----------------------+------------------+------------------+---------------+----------+----------------+----------------+---------------+--------------+----------------------+------------------+-----------------------+-------------------+--------------------+------------------+---------+-----+--------+-------------+-----+-----+-----------+----------+------------+-------+------------+------------+\n",
            "|2015-01-28 00:00:00|    1375586.0|             N|               ES|  H| 35|2015-01-12 00:00:00|                 0|                 6|                     1|             null|                      1.0|                                 A|              S|              N|                 null|          KHL|             N|           1|           29|       MALAGA|                      1|           87218.1| 02 - PARTICULARES|              0|         0|               1|               0|              0|             0|                     0|                 0|                      0|                  0|                   0|                 0|        0|    0|       0|            0|    0|    0|          0|         0|           0|      0|           0|           0|\n",
            "|2015-01-28 00:00:00|    1050611.0|             N|               ES|  V| 23|2012-08-10 00:00:00|                 0|                35|                     1|             null|                        1|                                 I|              S|              S|                 null|          KHE|             N|           1|           13|  CIUDAD REAL|                      0|          35548.74|03 - UNIVERSITARIO|              0|         0|               1|               0|              0|             0|                     0|                 0|                      0|                  0|                   0|                 0|        0|    0|       0|            0|    0|    0|          0|         0|           0|      0|           0|           0|\n",
            "|2015-01-28 00:00:00|    1050612.0|             N|               ES|  V| 23|2012-08-10 00:00:00|                 0|                35|                     1|             null|                        1|                                 I|              S|              N|                 null|          KHE|             N|           1|           13|  CIUDAD REAL|                      0|122179.11000000002|03 - UNIVERSITARIO|              0|         0|               1|               0|              0|             0|                     0|                 0|                      0|                  0|                   0|                 0|        0|    0|       0|            0|    0|    0|          0|         0|           0|      0|           0|           0|\n",
            "|2015-01-28 00:00:00|    1050613.0|             N|               ES|  H| 22|2012-08-10 00:00:00|                 0|                35|                     1|             null|                        1|                                 I|              S|              N|                 null|          KHD|             N|           1|           50|     ZARAGOZA|                      0|         119775.54|03 - UNIVERSITARIO|              0|         0|               0|               0|              0|             0|                     0|                 0|                      0|                  1|                   0|                 0|        0|    0|       0|            0|    0|    0|          0|         0|           0|      0|           0|           0|\n",
            "|2015-01-28 00:00:00|    1050614.0|             N|               ES|  V| 23|2012-08-10 00:00:00|                 0|                35|                     1|             null|                        1|                                 A|              S|              N|                 null|          KHE|             N|           1|           50|     ZARAGOZA|                      1|              null|03 - UNIVERSITARIO|              0|         0|               1|               0|              0|             0|                     0|                 0|                      0|                  0|                   0|                 0|        0|    0|       0|            0|    0|    0|          0|         0|           0|      0|           0|           0|\n",
            "|2015-01-28 00:00:00|    1050615.0|             N|               ES|  H| 23|2012-08-10 00:00:00|                 0|                35|                     1|             null|                        1|                                 I|              S|              N|                 null|          KHE|             N|           1|           45|       TOLEDO|                      0|          22220.04|03 - UNIVERSITARIO|              0|         0|               1|               0|              0|             0|                     0|                 0|                      0|                  0|                   0|                 0|        0|    0|       0|            0|    0|    0|          0|         0|           0|      0|           0|           0|\n",
            "|2015-01-28 00:00:00|    1050616.0|             N|               ES|  H| 23|2012-08-10 00:00:00|                 0|                35|                     1|             null|                        1|                                 I|              S|              N|                 null|          KHE|             N|           1|           24|         LEON|                      0|         295590.36|03 - UNIVERSITARIO|              0|         0|               1|               0|              0|             0|                     0|                 0|                      0|                  0|                   0|                 0|        0|    0|       0|            0|    0|    0|          0|         0|           0|      0|           0|           0|\n",
            "|2015-01-28 00:00:00|    1050617.0|             N|               ES|  H| 23|2012-08-10 00:00:00|                 0|                35|                     1|             null|                        1|                                 A|              S|              N|                 null|          KHE|             N|           1|           50|     ZARAGOZA|                      1|         113316.66|03 - UNIVERSITARIO|              0|         0|               1|               0|              0|             0|                     0|                 0|                      0|                  0|                   0|                 0|        0|    0|       0|            0|    0|    0|          0|         0|           0|      0|           0|           0|\n",
            "|2015-01-28 00:00:00|    1050619.0|             N|               ES|  H| 24|2012-08-10 00:00:00|                 0|                35|                     1|             null|                        1|                                 I|              S|              N|                 null|          KHE|             N|           1|           20|     GIPUZKOA|                      0|              null|03 - UNIVERSITARIO|              0|         0|               1|               0|              0|             0|                     0|                 0|                      0|                  0|                   0|                 0|        0|    0|       0|            0|    0|    0|          0|         0|           0|      0|           0|           0|\n",
            "|2015-01-28 00:00:00|    1050620.0|             N|               ES|  H| 23|2012-08-10 00:00:00|                 0|                35|                     1|             null|                        1|                                 I|              S|              N|                 null|          KHE|             N|           1|           10|      CACERES|                      0|         113194.98|03 - UNIVERSITARIO|              0|         0|               1|               0|              0|             0|                     0|                 0|                      0|                  0|                   0|                 0|        0|    0|       0|            0|    0|    0|          0|         0|           0|      0|           0|           0|\n",
            "|2015-01-28 00:00:00|    1050621.0|             N|               ES|  V| 23|2012-08-10 00:00:00|                 0|                35|                     1|             null|                        1|                                 I|              S|              N|                 null|          KHE|             N|           1|           50|     ZARAGOZA|                      0|          72575.88|03 - UNIVERSITARIO|              0|         0|               1|               0|              0|             0|                     0|                 0|                      0|                  0|                   0|                 0|        0|    0|       0|            0|    0|    0|          0|         0|           0|      0|           0|           0|\n",
            "|2015-01-28 00:00:00|    1050622.0|             N|               ES|  H| 23|2012-08-10 00:00:00|                 0|                35|                     1|             null|                        1|                                 I|              S|              N|                 null|          KHE|             N|           1|           17|       GIRONA|                      0|              null|03 - UNIVERSITARIO|              0|         0|               1|               0|              0|             0|                     0|                 0|                      0|                  0|                   0|                 0|        0|    0|       0|            0|    0|    0|          0|         0|           0|      0|           0|           0|\n",
            "|2015-01-28 00:00:00|    1050623.0|             N|               ES|  H| 23|2012-08-10 00:00:00|                 0|                35|                     1|             null|                        1|                                 A|              S|              N|                 null|          KHE|             N|           1|           49|       ZAMORA|                      1|         113538.81|03 - UNIVERSITARIO|              0|         0|               1|               0|              0|             0|                     0|                 0|                      0|                  0|                   0|                 0|        0|    0|       0|            0|    0|    0|          0|         0|           0|      0|           0|           0|\n",
            "|2015-01-28 00:00:00|    1050624.0|             N|               ES|  H| 65|2012-08-10 00:00:00|                 0|                35|                     1|             null|                        1|                                 A|              S|              N|                 null|          KHE|             N|           1|           50|     ZARAGOZA|                      1|          61605.09| 02 - PARTICULARES|              0|         0|               1|               0|              0|             0|                     0|                 0|                      0|                  0|                   0|                 0|        0|    0|       0|            0|    0|    0|          0|         0|           0|      0|           0|           0|\n",
            "|2015-01-28 00:00:00|    1050625.0|             N|               ES|  V| 23|2012-08-10 00:00:00|                 0|                35|                     1|             null|                        1|                                 A|              S|              N|                 null|          KHE|             N|           1|           49|       ZAMORA|                      1|              null|03 - UNIVERSITARIO|              0|         0|               1|               0|              0|             0|                     0|                 0|                      0|                  0|                   0|                 0|        0|    0|       0|            0|    0|    0|          0|         0|           0|      0|           0|           0|\n",
            "|2015-01-28 00:00:00|    1050626.0|             N|               ES|  V| 23|2012-08-10 00:00:00|                 0|                35|                     1|             null|                        1|                                 A|              S|              N|                 null|          KHE|             N|           1|            8|    BARCELONA|                      1|              null|03 - UNIVERSITARIO|              0|         0|               1|               0|              0|             0|                     0|                 0|                      0|                  0|                   0|                 0|        0|    0|       0|            0|    0|    0|          0|         0|           0|      0|           0|           0|\n",
            "|2015-01-28 00:00:00|    1050610.0|             N|               ES|  V| 24|2012-08-10 00:00:00|                 0|                35|                     1|             null|                        1|                                 I|              S|              N|                 null|          KHE|             N|           1|           37|    SALAMANCA|                      1| 68318.45999999999|03 - UNIVERSITARIO|              0|         0|               1|               0|              0|             0|                     0|                 0|                      0|                  0|                   0|                 0|        0|    0|       0|            0|    0|    0|          0|         0|           0|      0|           0|           0|\n",
            "|2015-01-28 00:00:00|    1050627.0|             N|               ES|  H| 23|2012-08-10 00:00:00|                 0|                35|                     1|             null|                        1|                                 I|              S|              N|                 null|          KHE|             N|           1|           13|  CIUDAD REAL|                      0|          65608.35|03 - UNIVERSITARIO|              0|         0|               1|               0|              0|             0|                     0|                 0|                      0|                  0|                   0|                 0|        0|    0|       0|            0|    0|    0|          0|         0|           0|      0|           0|           0|\n",
            "|2015-01-28 00:00:00|    1050609.0|             N|               ES|  H| 22|2012-08-10 00:00:00|                 0|                35|                     1|             null|                        1|                                 I|              S|              N|                 null|          KFA|             N|           1|           13|  CIUDAD REAL|                      1|          73432.47|03 - UNIVERSITARIO|              0|         0|               1|               0|              0|             0|                     0|                 0|                      0|                  0|                   0|                 0|        0|    0|       0|            0|    0|    0|          0|         0|           0|      0|           0|           0|\n",
            "|2015-01-28 00:00:00|    1050605.0|             N|               ES|  V| 23|2012-08-10 00:00:00|                 0|                35|                     1|             null|                        1|                                 I|              S|              N|                 null|          KHE|             N|           1|           45|       TOLEDO|                      0|              null|03 - UNIVERSITARIO|              0|         0|               1|               0|              0|             0|                     0|                 0|                      0|                  0|                   0|                 0|        0|    0|       0|            0|    0|    0|          0|         0|           0|      0|           0|           0|\n",
            "+-------------------+-------------+--------------+-----------------+---+---+-------------------+------------------+------------------+----------------------+-----------------+-------------------------+----------------------------------+---------------+---------------+---------------------+-------------+--------------+------------+-------------+-------------+-----------------------+------------------+------------------+---------------+----------+----------------+----------------+---------------+--------------+----------------------+------------------+-----------------------+-------------------+--------------------+------------------+---------+-----+--------+-------------+-----+-----+-----------+----------+------------+-------+------------+------------+\n",
            "only showing top 20 rows\n",
            "\n"
          ]
        }
      ]
    },
    {
      "cell_type": "code",
      "source": [
        "for old_col, new_col in column_mapping.items():\n",
        "    test_df = test_df.withColumnRenamed(old_col, new_col)\n",
        "test_df.show()"
      ],
      "metadata": {
        "id": "qqVv2VlxD3QB",
        "colab": {
          "base_uri": "https://localhost:8080/"
        },
        "outputId": "ae009a89-00ef-457a-c312-3e221d8ec273"
      },
      "execution_count": 9,
      "outputs": [
        {
          "output_type": "stream",
          "name": "stdout",
          "text": [
            "+-------------------+-------------+--------------+-----------------+---+----+-------------------+------------------+------------------+----------------------+-----------------+-------------------------+----------------------------------+---------------+---------------+---------------------+-------------+--------------+------------+-------------+--------------+-----------------------+----------------+------------------+\n",
            "|               date|customer_code|employee_index|country_residence|sex| age|first_contract_date|new_customer_index|customer_seniority|primary_customer_index|last_primary_date|customer_type_start_month|customer_relation_type_start_month|residence_index|foreigner_index|spouse_employee_index|entry_channel|deceased_index|address_type|province_code| province_name|customer_activity_index|household_income|  customer_segment|\n",
            "+-------------------+-------------+--------------+-----------------+---+----+-------------------+------------------+------------------+----------------------+-----------------+-------------------------+----------------------------------+---------------+---------------+---------------------+-------------+--------------+------------+-------------+--------------+-----------------------+----------------+------------------+\n",
            "|2016-06-28 00:00:00|      15889.0|             F|               ES|  V|56.0|1995-01-16 00:00:00|                 0|             256.0|                   1.0|             null|                      1.0|                                 A|              S|              N|                    N|          KAT|             N|           1|           28|        MADRID|                      1|       326124.90|          01 - TOP|\n",
            "|2016-06-28 00:00:00|    1170544.0|             N|               ES|  H|36.0|2013-08-28 00:00:00|                 0|              34.0|                   1.0|             null|                      1.0|                                 I|              S|              N|                 null|          KAT|             N|           1|            3|      ALICANTE|                      0|              NA| 02 - PARTICULARES|\n",
            "|2016-06-28 00:00:00|    1170545.0|             N|               ES|  V|22.0|2013-08-28 00:00:00|                 0|              34.0|                   1.0|             null|                      1.0|                                 A|              S|              N|                 null|          KHE|             N|           1|           15|     CORUÑA, A|                      1|              NA|03 - UNIVERSITARIO|\n",
            "|2016-06-28 00:00:00|    1170547.0|             N|               ES|  H|22.0|2013-08-28 00:00:00|                 0|              34.0|                   1.0|             null|                      1.0|                                 I|              S|              N|                 null|          KHE|             N|           1|            8|     BARCELONA|                      0|       148402.98|03 - UNIVERSITARIO|\n",
            "|2016-06-28 00:00:00|    1170548.0|             N|               ES|  H|22.0|2013-08-28 00:00:00|                 0|              34.0|                   1.0|             null|                      1.0|                                 I|              S|              N|                 null|          KHE|             N|           1|            7|BALEARS, ILLES|                      0|       106885.80|03 - UNIVERSITARIO|\n",
            "|2016-06-28 00:00:00|    1170550.0|             N|               ES|  V|22.0|2013-08-28 00:00:00|                 0|              34.0|                   1.0|             null|                      1.0|                                 I|              S|              N|                 null|          KHE|             N|           1|            8|     BARCELONA|                      0|              NA|03 - UNIVERSITARIO|\n",
            "|2016-06-28 00:00:00|    1170552.0|             N|               ES|  H|51.0|2013-08-28 00:00:00|                 0|              34.0|                   1.0|             null|                      1.0|                                 A|              S|              N|                 null|          KFC|             N|           1|           35|   PALMAS, LAS|                      1|        96395.88| 02 - PARTICULARES|\n",
            "|2016-06-28 00:00:00|    1170553.0|             N|               ES|  H|22.0|2013-08-28 00:00:00|                 0|              34.0|                   1.0|             null|                      1.0|                                 I|              S|              N|                 null|          KHE|             N|           1|           45|        TOLEDO|                      0|              NA|03 - UNIVERSITARIO|\n",
            "|2016-06-28 00:00:00|    1170555.0|             N|               ES|  V|22.0|2013-08-28 00:00:00|                 0|              34.0|                   1.0|             null|                      1.0|                                 I|              S|              N|                 null|          KHE|             N|           1|           28|        MADRID|                      0|              NA|03 - UNIVERSITARIO|\n",
            "|2016-06-28 00:00:00|    1170557.0|             N|               ES|  H|22.0|2013-08-28 00:00:00|                 0|              34.0|                   1.0|             null|                      1.0|                                 A|              S|              N|                 null|          KHE|             N|           1|           15|     CORUÑA, A|                      1|        68322.72|03 - UNIVERSITARIO|\n",
            "|2016-06-28 00:00:00|    1170559.0|             N|               ES|  H|22.0|2013-08-28 00:00:00|                 0|              34.0|                   1.0|             null|                      1.0|                                 I|              S|              N|                 null|          KHE|             N|           1|           14|       CORDOBA|                      0|        39327.87|03 - UNIVERSITARIO|\n",
            "|2016-06-28 00:00:00|    1170563.0|             N|               ES|  H|22.0|2013-08-28 00:00:00|                 0|              34.0|                   1.0|             null|                      1.0|                                 I|              S|              N|                 null|          KHE|             N|           1|           28|        MADRID|                      0|              NA|03 - UNIVERSITARIO|\n",
            "|2016-06-28 00:00:00|    1170542.0|             N|               ES|  H|22.0|2013-08-28 00:00:00|                 0|              34.0|                   1.0|             null|                      1.0|                                 I|              S|              N|                 null|          KHE|             N|           1|            8|     BARCELONA|                      0|       108397.08|03 - UNIVERSITARIO|\n",
            "|2016-06-28 00:00:00|    1170565.0|             N|               ES|  H|22.0|2013-08-28 00:00:00|                 0|              34.0|                   1.0|             null|                      1.0|                                 I|              S|              N|                 null|          KHE|             N|           1|           15|     CORUÑA, A|                      0|              NA|03 - UNIVERSITARIO|\n",
            "|2016-06-28 00:00:00|    1170568.0|             N|               ES|  H|22.0|2013-08-28 00:00:00|                 0|              34.0|                   1.0|             null|                      1.0|                                 I|              S|              N|                 null|          KHE|             N|           1|           30|        MURCIA|                      0|       124086.75|03 - UNIVERSITARIO|\n",
            "|2016-06-28 00:00:00|    1170570.0|             N|               ES|  H|22.0|2013-08-28 00:00:00|                 0|              34.0|                   1.0|             null|                      1.0|                                 A|              S|              N|                 null|          KHE|             N|           1|           28|        MADRID|                      1|       154306.95|03 - UNIVERSITARIO|\n",
            "|2016-06-28 00:00:00|    1170576.0|             N|               ES|  V|22.0|2013-08-28 00:00:00|                 0|              34.0|                   1.0|             null|                      1.0|                                 A|              S|              N|                 null|          KHE|             N|           1|           15|     CORUÑA, A|                      0|       109630.98|03 - UNIVERSITARIO|\n",
            "|2016-06-28 00:00:00|    1170578.0|             N|               ES|  V|41.0|2013-08-28 00:00:00|                 0|              34.0|                   1.0|             null|                      1.0|                                 I|              S|              N|                 null|          KAT|             N|           1|            8|     BARCELONA|                      0|        76589.91| 02 - PARTICULARES|\n",
            "|2016-06-28 00:00:00|    1170579.0|             N|               ES|  H|36.0|2013-08-28 00:00:00|                 0|              34.0|                   1.0|             null|                      1.0|                                 A|              S|              N|                 null|          KFC|             N|           1|           30|        MURCIA|                      1|        86862.48| 02 - PARTICULARES|\n",
            "|2016-06-28 00:00:00|    1170581.0|             N|               ES|  H|22.0|2013-08-28 00:00:00|                 0|              34.0|                   1.0|             null|                      1.0|                                 I|              S|              N|                 null|          KHE|             N|           1|           28|        MADRID|                      0|        35746.41|03 - UNIVERSITARIO|\n",
            "+-------------------+-------------+--------------+-----------------+---+----+-------------------+------------------+------------------+----------------------+-----------------+-------------------------+----------------------------------+---------------+---------------+---------------------+-------------+--------------+------------+-------------+--------------+-----------------------+----------------+------------------+\n",
            "only showing top 20 rows\n",
            "\n"
          ]
        }
      ]
    },
    {
      "cell_type": "code",
      "source": [],
      "metadata": {
        "id": "ut7eubML2wRk"
      },
      "execution_count": 9,
      "outputs": []
    },
    {
      "cell_type": "code",
      "source": [
        "# Calculate null percentages for each column\n",
        "null_percentages = train_df.agg(*[(1 - (F.count(F.col(c)) / F.count('*'))) * 100 for c in train_df.columns])\n",
        "\n",
        "# # Rename the columns for clarity\n",
        "null_percentages = null_percentages.select([F.col(c).alias(f\"{train_df.columns[i]}_null_percentage\") for i, c in enumerate(null_percentages.columns)])\n",
        "\n",
        "# Show the null percentages\n",
        "null_percentages.show()"
      ],
      "metadata": {
        "id": "EAJAMr6uMBY7",
        "colab": {
          "base_uri": "https://localhost:8080/"
        },
        "outputId": "7e031dfd-96a4-418e-96f8-5809ee651978"
      },
      "execution_count": 10,
      "outputs": [
        {
          "output_type": "stream",
          "name": "stdout",
          "text": [
            "+--------------------+-----------------------------+------------------------------+---------------------------------+-------------------+-------------------+-----------------------------------+----------------------------------+----------------------------------+--------------------------------------+---------------------------------+-----------------------------------------+--------------------------------------------------+-------------------------------+-------------------------------+-------------------------------------+-----------------------------+------------------------------+----------------------------+-----------------------------+-----------------------------+---------------------------------------+--------------------------------+--------------------------------+-------------------------------+--------------------------+--------------------------------+--------------------------------+-------------------------------+------------------------------+--------------------------------------+----------------------------------+---------------------------------------+-----------------------------------+------------------------------------+----------------------------------+-------------------------+---------------------+------------------------+-----------------------------+---------------------+---------------------+---------------------------+--------------------------+----------------------------+-----------------------+----------------------------+----------------------------+\n",
            "|date_null_percentage|customer_code_null_percentage|employee_index_null_percentage|country_residence_null_percentage|sex_null_percentage|age_null_percentage|first_contract_date_null_percentage|new_customer_index_null_percentage|customer_seniority_null_percentage|primary_customer_index_null_percentage|last_primary_date_null_percentage|customer_type_start_month_null_percentage|customer_relation_type_start_month_null_percentage|residence_index_null_percentage|foreigner_index_null_percentage|spouse_employee_index_null_percentage|entry_channel_null_percentage|deceased_index_null_percentage|address_type_null_percentage|province_code_null_percentage|province_name_null_percentage|customer_activity_index_null_percentage|household_income_null_percentage|customer_segment_null_percentage|savings_account_null_percentage|guarantees_null_percentage|current_accounts_null_percentage|derivada_account_null_percentage|payroll_account_null_percentage|junior_account_null_percentage|mas_particular_account_null_percentage|particular_account_null_percentage|particular_plus_account_null_percentage|short_term_deposits_null_percentage|medium_term_deposits_null_percentage|long_term_deposits_null_percentage|e_account_null_percentage|funds_null_percentage|mortgage_null_percentage|pension_plans_null_percentage|loans_null_percentage|taxes_null_percentage|credit_card_null_percentage|securities_null_percentage|home_account_null_percentage|payroll_null_percentage|pensions_nom_null_percentage|direct_debit_null_percentage|\n",
            "+--------------------+-----------------------------+------------------------------+---------------------------------+-------------------+-------------------+-----------------------------------+----------------------------------+----------------------------------+--------------------------------------+---------------------------------+-----------------------------------------+--------------------------------------------------+-------------------------------+-------------------------------+-------------------------------------+-----------------------------+------------------------------+----------------------------+-----------------------------+-----------------------------+---------------------------------------+--------------------------------+--------------------------------+-------------------------------+--------------------------+--------------------------------+--------------------------------+-------------------------------+------------------------------+--------------------------------------+----------------------------------+---------------------------------------+-----------------------------------+------------------------------------+----------------------------------+-------------------------+---------------------+------------------------+-----------------------------+---------------------+---------------------+---------------------------+--------------------------+----------------------------+-----------------------+----------------------------+----------------------------+\n",
            "|                 0.0|                          0.0|            0.2032195504622969|               0.2032195504622969|0.20373247209395373|                0.0|                 0.2032195504622969|                               0.0|                               0.0|                                   0.0|                99.81833048551916|                       1.0975130701591063|                                1.0975130701591063|             0.2032195504622969|             0.2032195504622969|                    99.98675196699949|           1.3638293087670283|            0.2032195504622969|                         0.0|                          0.0|           0.6857835489765818|                                    0.0|              20.475648349429175|              1.3875849077646052|                            0.0|                       0.0|                             0.0|                             0.0|                            0.0|                           0.0|                                   0.0|                               0.0|                                    0.0|                                0.0|                                 0.0|                               0.0|                      0.0|                  0.0|                     0.0|                          0.0|                  0.0|                  0.0|                        0.0|                       0.0|                         0.0|                    0.0|                         0.0|                         0.0|\n",
            "+--------------------+-----------------------------+------------------------------+---------------------------------+-------------------+-------------------+-----------------------------------+----------------------------------+----------------------------------+--------------------------------------+---------------------------------+-----------------------------------------+--------------------------------------------------+-------------------------------+-------------------------------+-------------------------------------+-----------------------------+------------------------------+----------------------------+-----------------------------+-----------------------------+---------------------------------------+--------------------------------+--------------------------------+-------------------------------+--------------------------+--------------------------------+--------------------------------+-------------------------------+------------------------------+--------------------------------------+----------------------------------+---------------------------------------+-----------------------------------+------------------------------------+----------------------------------+-------------------------+---------------------+------------------------+-----------------------------+---------------------+---------------------+---------------------------+--------------------------+----------------------------+-----------------------+----------------------------+----------------------------+\n",
            "\n"
          ]
        }
      ]
    },
    {
      "cell_type": "code",
      "source": [
        "train_df = train_df.drop(\"last_primary_date\", \"spouse_employee_index\")\n",
        "test_df = test_df.drop(\"last_primary_date\", \"spouse_employee_index\")"
      ],
      "metadata": {
        "id": "WQveTB-nNYbB"
      },
      "execution_count": 11,
      "outputs": []
    },
    {
      "cell_type": "code",
      "source": [
        "print(\"Shape of train DataFrame: ({}, {})\".format(train_df.count(), len(train_df.columns)))\n",
        "print(\"Shape of test DataFrame: ({}, {})\".format(test_df.count(), len(test_df.columns)))"
      ],
      "metadata": {
        "id": "tCpKCY3SNhTP",
        "colab": {
          "base_uri": "https://localhost:8080/"
        },
        "outputId": "482a37cb-0687-4642-eb5f-5cd1d4987c10"
      },
      "execution_count": 12,
      "outputs": [
        {
          "output_type": "stream",
          "name": "stdout",
          "text": [
            "Shape of train DataFrame: (13647309, 46)\n",
            "Shape of test DataFrame: (929615, 22)\n"
          ]
        }
      ]
    },
    {
      "cell_type": "code",
      "source": [],
      "metadata": {
        "id": "y30kFy-CRV6r"
      },
      "execution_count": 12,
      "outputs": []
    },
    {
      "cell_type": "code",
      "source": [
        "sample_fraction = 0.1\n",
        "sampled_data = train_df.select('age').sample(fraction=sample_fraction).rdd.flatMap(lambda x: x).collect()\n",
        "\n",
        "# Plot histogram\n",
        "plt.hist(sampled_data, bins=30, color='skyblue', edgecolor='black')\n",
        "plt.xlabel('Values')\n",
        "plt.ylabel('Frequency')\n",
        "plt.title('Histogram of Age')\n",
        "plt.show()"
      ],
      "metadata": {
        "id": "-HJ3Jw2XPLHH",
        "colab": {
          "base_uri": "https://localhost:8080/",
          "height": 472
        },
        "outputId": "7dcc6797-3d3c-4f5d-cbaf-237141b39d10"
      },
      "execution_count": 13,
      "outputs": [
        {
          "output_type": "display_data",
          "data": {
            "text/plain": [
              "<Figure size 640x480 with 1 Axes>"
            ],
            "image/png": "[encoded data removed]"
          },
          "metadata": {}
        }
      ]
    },
    {
      "cell_type": "code",
      "source": [
        "\n",
        "sample_fraction = 0.1  # Adjust as needed\n",
        "\n",
        "sampled_data = train_df.select('household_income').dropna().sample(fraction=sample_fraction).rdd.flatMap(lambda x: x).collect()\n",
        "\n",
        "# Plot histogram\n",
        "plt.hist(sampled_data, bins=10, color='skyblue', edgecolor='black')\n",
        "plt.xlabel('Values')\n",
        "plt.ylabel('Frequency')\n",
        "plt.title('Histogram of household_income')\n",
        "plt.show()"
      ],
      "metadata": {
        "id": "VQWzjcUfSbdd",
        "colab": {
          "base_uri": "https://localhost:8080/",
          "height": 472
        },
        "outputId": "f9ea1ae2-317e-4bfc-c92a-34e4057039d4"
      },
      "execution_count": 14,
      "outputs": [
        {
          "output_type": "display_data",
          "data": {
            "text/plain": [
              "<Figure size 640x480 with 1 Axes>"
            ],
            "image/png": "[encoded data removed]"
          },
          "metadata": {}
        }
      ]
    },
    {
      "cell_type": "code",
      "source": [
        "def preprocess_data(df):\n",
        "    df_processed = df \\\n",
        "        .withColumn(\"date\", to_date(col(\"date\"), \"yyyy-MM-dd\")) \\\n",
        "        .withColumn(\"employee_index\", when(col(\"employee_index\") == \"A\", 1)\n",
        "                      .when(col(\"employee_index\") == \"B\", 2)\n",
        "                      .when(col(\"employee_index\") == \"F\", 3)\n",
        "                      .when(col(\"employee_index\") == \"N\", 4)\n",
        "                      .when(col(\"employee_index\") == \"S\", 5)\n",
        "                      .otherwise(col(\"employee_index\").cast(\"int\"))) \\\n",
        "        .withColumn(\"first_contract_date\", to_date(col(\"first_contract_date\"), \"yyyy-MM-dd\")) \\\n",
        "        .withColumn(\"customer_code\", col(\"customer_code\").cast(\"int\")) \\\n",
        "        .withColumn(\"new_customer_index\", col(\"new_customer_index\").cast(\"int\")) \\\n",
        "        .withColumn(\"primary_customer_index\", col(\"primary_customer_index\").cast(\"int\")) \\\n",
        "        .withColumn(\"address_type\", col(\"address_type\").cast(\"int\")) \\\n",
        "        .withColumn(\"province_code\", col(\"province_code\").cast(\"int\")) \\\n",
        "        .withColumn(\"customer_activity_index\", col(\"customer_activity_index\").cast(\"double\")) \\\n",
        "        .withColumn(\"customer_seniority\", col(\"customer_seniority\").cast(\"int\")) \\\n",
        "        .withColumn(\"deceased_index\", when(col(\"residence_index\") == \"S\", 1)\n",
        "                      .when(col(\"residence_index\") == \"N\", 0)\n",
        "                      .otherwise(None).cast(\"int\")) \\\n",
        "        .withColumn(\"foreigner_index\", when(col(\"residence_index\") == \"S\", 1)\n",
        "                      .when(col(\"residence_index\") == \"N\", 0)\n",
        "                      .otherwise(None).cast(\"int\")) \\\n",
        "        .withColumn(\"residence_index\", when(col(\"residence_index\") == \"S\", 1)\n",
        "                      .when(col(\"residence_index\") == \"N\", 0)\n",
        "                      .otherwise(None).cast(\"int\")) \\\n",
        "        .withColumn(\"household_income\", round(col(\"household_income\"), 2).cast(\"double\")) \\\n",
        "        .withColumn(\"customer_relation_type_start_month\", when(col(\"customer_relation_type_start_month\") == \"A\", 1)\n",
        "                      .when(col(\"customer_relation_type_start_month\") == \"I\", 2)\n",
        "                      .when(col(\"customer_relation_type_start_month\") == \"P\", 3)\n",
        "                      .when(col(\"customer_relation_type_start_month\") == \"R\", 4)\n",
        "                      .otherwise(col(\"customer_relation_type_start_month\").cast(\"int\"))) \\\n",
        "        .withColumn(\"age\", col(\"age\").cast(\"int\")) \\\n",
        "        .withColumn(\"customer_segment\", when(col(\"customer_segment\") == \"01 - TOP\", 1)\n",
        "                      .when(col(\"customer_segment\") == \"02 - PARTICULARES\", 2)\n",
        "                      .when(col(\"customer_segment\") == \"03 - UNIVERSITARIO\", 3)\n",
        "                      .otherwise(col(\"customer_segment\").cast(\"int\"))) \\\n",
        "        .withColumn(\"customer_type_start_month\", when(col(\"customer_type_start_month\").isin(\"1\", \"1.0\"), 1)\n",
        "                      .when(col(\"customer_type_start_month\").isin(\"2\", \"2.0\"), 2)\n",
        "                      .when(col(\"customer_type_start_month\").isin(\"3\", \"3.0\"), 3)\n",
        "                      .when(col(\"customer_type_start_month\").isin(\"4\", \"4.0\"), 4)\n",
        "                      .otherwise(col(\"customer_type_start_month\").cast(\"int\"))) \\\n",
        "        .filter(col(\"customer_seniority\") >= 0) \\\n",
        "        .filter((col(\"age\") >= 1) & (col(\"age\") <= 100))\n",
        "\n",
        "    return df_processed\n"
      ],
      "metadata": {
        "id": "3FUfYUWtU4w-"
      },
      "execution_count": 15,
      "outputs": []
    },
    {
      "cell_type": "code",
      "source": [
        "historical_data = train_df.filter(col(\"date\") <= \"2016-04-28\")\n",
        "intermediate_data_0528 = train_df.filter(col(\"date\") == \"2016-05-28\")"
      ],
      "metadata": {
        "id": "pnFgDnjZbBqg"
      },
      "execution_count": 16,
      "outputs": []
    },
    {
      "cell_type": "code",
      "source": [
        "train_df = preprocess_data(train_df)\n",
        "test_data = preprocess_data(test_df)"
      ],
      "metadata": {
        "id": "vNO252SDbO7M"
      },
      "execution_count": 17,
      "outputs": []
    },
    {
      "cell_type": "code",
      "source": [
        "train_data = train_df.withColumn(\"payroll\", col(\"payroll\").cast(\"int\")) \\\n",
        "                                .withColumn(\"pensions_nom\", col(\"pensions_nom\").cast(\"int\"))"
      ],
      "metadata": {
        "id": "9TtP2PaYbWKZ"
      },
      "execution_count": 18,
      "outputs": []
    },
    {
      "cell_type": "code",
      "source": [],
      "metadata": {
        "id": "duKwTIZ-JNhr"
      },
      "execution_count": 18,
      "outputs": []
    },
    {
      "cell_type": "code",
      "source": [],
      "metadata": {
        "id": "rN3vK45nb9E9"
      },
      "execution_count": 18,
      "outputs": []
    },
    {
      "cell_type": "code",
      "source": [
        "# Calculate the median age, household\n",
        "median_age = train_data.select(percentile_approx(\"age\", 0.5).alias(\"median_age\")).collect()[0][0]\n",
        "median_household_income = train_data.select(percentile_approx(\"household_income\", 0.5).alias(\"median_household_income\")).collect()[0][0]\n",
        "\n",
        "print(median_age)\n",
        "print(median_household_income)\n"
      ],
      "metadata": {
        "id": "1rSlchgHbsVX",
        "colab": {
          "base_uri": "https://localhost:8080/"
        },
        "outputId": "07228ca7-6095-4198-eb4d-897d311e8e48"
      },
      "execution_count": 19,
      "outputs": [
        {
          "output_type": "stream",
          "name": "stdout",
          "text": [
            "39\n",
            "101816.73\n"
          ]
        }
      ]
    },
    {
      "cell_type": "code",
      "source": [
        "def impute_data(df, median_age, median_household_income):\n",
        "    df_imputed = df.withColumn(\"age\", when(col(\"age\").isNull(), median_age).otherwise(col(\"age\"))) \\\n",
        "                   .withColumn(\"household_income\", when(col(\"household_income\").isNull(), median_household_income).otherwise(col(\"household_income\")))\n",
        "\n",
        "    return df_imputed"
      ],
      "metadata": {
        "id": "ndMA0vmmccE4"
      },
      "execution_count": 20,
      "outputs": []
    },
    {
      "cell_type": "code",
      "source": [
        "# Data imputation with median data\n",
        "\n",
        "train_data = impute_data(train_data, median_age, median_household_income)\n",
        "test_data = impute_data(test_data, median_age, median_household_income)"
      ],
      "metadata": {
        "id": "56WDG-Npc-1M"
      },
      "execution_count": 21,
      "outputs": []
    },
    {
      "cell_type": "code",
      "source": [],
      "metadata": {
        "id": "Kljj5TjJePMI"
      },
      "execution_count": 21,
      "outputs": []
    },
    {
      "cell_type": "code",
      "source": [
        "demographic_cols = [\n",
        "    \"sex\",\n",
        "    \"age\",\n",
        "    \"country_residence\",\n",
        "    \"new_customer_index\",\n",
        "    \"customer_seniority\"\n",
        "]\n",
        "demographics_df = train_data.select(demographic_cols)\n",
        "\n",
        "# Summary statistics for numerical columns\n",
        "demographics_df.describe(\"age\", \"customer_seniority\").show()\n",
        "\n",
        "# age\n",
        "age_distribution = demographics_df.groupBy(\"age\").count().orderBy(\"age\").collect()\n",
        "age_values = [row[\"age\"] for row in age_distribution]\n",
        "age_counts = [row[\"count\"] for row in age_distribution]\n",
        "plt.plot(age_values, age_counts)\n",
        "plt.title(\"Distribution of Age\")\n",
        "plt.xlabel(\"Age\")\n",
        "plt.ylabel(\"Count\")\n",
        "plt.show()\n",
        "\n",
        "\n",
        "# new customer index\n",
        "new_customer_distribution = demographics_df.groupBy(\"new_customer_index\").count().collect()\n",
        "new_customer_labels = [row[\"new_customer_index\"] for row in new_customer_distribution]\n",
        "new_customer_counts = [row[\"count\"] for row in new_customer_distribution]\n",
        "plt.bar(new_customer_labels, new_customer_counts)\n",
        "plt.title(\"Distribution of New Customer Index\")\n",
        "plt.xlabel(\"New Customer Index\")\n",
        "plt.ylabel(\"Count\")\n",
        "plt.show()\n",
        "\n",
        "# Customer seniority\n",
        "customer_seniority_distribution = demographics_df.groupBy(\"customer_seniority\").count().orderBy(\"customer_seniority\").collect()\n",
        "seniority_values = [row[\"customer_seniority\"] for row in customer_seniority_distribution]\n",
        "seniority_counts = [row[\"count\"] for row in customer_seniority_distribution]\n",
        "plt.plot(seniority_values, seniority_counts)\n",
        "plt.title(\"Distribution of Customer Seniority\")\n",
        "plt.xlabel(\"Customer Seniority\")\n",
        "plt.ylabel(\"Count\")\n",
        "plt.show()\n"
      ],
      "metadata": {
        "id": "TdFzFQwCDkxb",
        "colab": {
          "base_uri": "https://localhost:8080/",
          "height": 1000
        },
        "outputId": "61458e77-bd77-4595-eada-dbc9bfcc5b91"
      },
      "execution_count": 22,
      "outputs": [
        {
          "output_type": "stream",
          "name": "stdout",
          "text": [
            "+-------+-----------------+------------------+\n",
            "|summary|              age|customer_seniority|\n",
            "+-------+-----------------+------------------+\n",
            "|  count|         13606668|          13606668|\n",
            "|   mean|40.12089976767273| 79.30668095965889|\n",
            "| stddev|17.07974245231624| 66.34744185538513|\n",
            "|    min|                2|                 0|\n",
            "|    max|              100|               256|\n",
            "+-------+-----------------+------------------+\n",
            "\n"
          ]
        },
        {
          "output_type": "display_data",
          "data": {
            "text/plain": [
              "<Figure size 640x480 with 1 Axes>"
            ],
            "image/png": "[encoded data removed]"
          },
          "metadata": {}
        },
        {
          "output_type": "display_data",
          "data": {
            "text/plain": [
              "<Figure size 640x480 with 1 Axes>"
            ],
            "image/png": "[encoded data removed]"
          },
          "metadata": {}
        },
        {
          "output_type": "display_data",
          "data": {
            "text/plain": [
              "<Figure size 640x480 with 1 Axes>"
            ],
            "image/png": "[encoded data removed]"
          },
          "metadata": {}
        }
      ]
    },
    {
      "cell_type": "code",
      "source": [
        "from pyspark.sql.functions import when, col\n",
        "\n",
        "def create_age_groups_and_weighted_activity(df, age_column=\"age\"):\n",
        "    age_groups = {\"young\": (0, 25), \"adult\": (26, 40), \"middle-aged\": (41, 60), \"senior\": (61, 100)}\n",
        "\n",
        "    df_with_age_groups_and_weighted_activity = df.withColumn(\"age_group\",\n",
        "                                      when((col(age_column) >= age_groups[\"young\"][0]) & (col(age_column) <= age_groups[\"young\"][1]), \"young\")\n",
        "                                      .when((col(age_column) >= age_groups[\"adult\"][0]) & (col(age_column) <= age_groups[\"adult\"][1]), \"adult\")\n",
        "                                      .when((col(age_column) >= age_groups[\"middle-aged\"][0]) & (col(age_column) <= age_groups[\"middle-aged\"][1]), \"middle-aged\")\n",
        "                                      .when(col(age_column) >= age_groups[\"senior\"][0], \"senior\")\n",
        "                                      .otherwise(\"unknown\")) \\\n",
        "                                      .withColumn(\"activity_index_weighted\", col(\"customer_activity_index\") * col(\"customer_seniority\"))\n",
        "\n",
        "    return df_with_age_groups_and_weighted_activity\n",
        "\n",
        "\n",
        "train_data = create_age_groups_and_weighted_activity(train_data, age_column=\"age\")\n",
        "test_data_processed = create_age_groups_and_weighted_activity(test_data, age_column=\"age\")\n"
      ],
      "metadata": {
        "id": "pMPV0QTfRVC2"
      },
      "execution_count": 23,
      "outputs": []
    },
    {
      "cell_type": "code",
      "source": [],
      "metadata": {
        "id": "fbEIj7FZRU7Y"
      },
      "execution_count": 23,
      "outputs": []
    },
    {
      "cell_type": "code",
      "source": [],
      "metadata": {
        "id": "ZfspLiTDatjK"
      },
      "execution_count": 23,
      "outputs": []
    },
    {
      "cell_type": "code",
      "source": [
        "\n",
        "product_columns = [\n",
        "    \"savings_account\", \"guarantees\", \"current_accounts\", \"derivada_account\", \"payroll_account\",\n",
        "    \"junior_account\", \"mas_particular_account\", \"particular_account\", \"particular_plus_account\",\n",
        "    \"short_term_deposits\", \"medium_term_deposits\", \"long_term_deposits\", \"e_account\", \"funds\",\n",
        "    \"mortgage\", \"loans\", \"taxes\", \"credit_card\", \"securities\", \"home_account\", \"payroll\",\n",
        "    \"pensions_nom\", \"pension_plans\", \"direct_debit\"\n",
        "]\n",
        "\n",
        "def process_train_data(df):\n",
        "    for col_name in product_columns:\n",
        "        df = df.withColumn(col_name, when(col(col_name).isNull(), 0).otherwise(col(col_name)))\n",
        "    df = df.withColumn(\"multi_label\", concat_ws('_', *product_columns))\n",
        "    return df\n",
        "\n",
        "\n",
        "def process_test_data(df):\n",
        "    return df\n",
        "\n",
        "\n",
        "def create_feature_pipeline():\n",
        "    categorical_cols = [\n",
        "        \"employee_index\", \"country_residence\", \"sex\", \"new_customer_index\",\n",
        "        \"primary_customer_index\", \"province_code\", \"customer_type_start_month\",\n",
        "        \"customer_relation_type_start_month\", \"residence_index\", \"foreigner_index\",\n",
        "        \"deceased_index\", \"customer_activity_index\", \"customer_segment\",\n",
        "        \"age_group\", \"activity_index_weighted\"\n",
        "    ]\n",
        "\n",
        "    string_indexers = [StringIndexer(inputCol=col, outputCol=col + \"_index\", handleInvalid='keep') for col in categorical_cols]\n",
        "    one_hot_encoders = [OneHotEncoder(inputCol=indexer.getOutputCol(), outputCol=col + \"_encoded\") for indexer, col in zip(string_indexers, categorical_cols)]\n",
        "    encoded_columns = [col + \"_encoded\" for col in categorical_cols]\n",
        "    feature_assembler = VectorAssembler(inputCols=encoded_columns, outputCol=\"features\")\n",
        "\n",
        "    return Pipeline(stages=string_indexers + one_hot_encoders + [feature_assembler])"
      ],
      "metadata": {
        "id": "wKrIgrFwf0Ge"
      },
      "execution_count": 24,
      "outputs": []
    },
    {
      "cell_type": "code",
      "source": [],
      "metadata": {
        "id": "qUF2OLNJqm_c"
      },
      "execution_count": 24,
      "outputs": []
    },
    {
      "cell_type": "code",
      "source": [
        "# Create and fit the feature pipeline\n",
        "feature_pipeline_train_data = create_feature_pipeline()\n",
        "fitted_pipeline_train_data = feature_pipeline_train_data.fit(train_data)\n",
        "transformed_train_data_for__original_intermediate = fitted_pipeline_train_data.transform(train_data)\n",
        "\n",
        "\n",
        "# Create a single target column by concatenating all product columns for training data\n",
        "transformed_train_data_for__original_intermediate = transformed_train_data_for__original_intermediate.withColumn(\"multi_label\", concat_ws('_', *product_columns))\n",
        "\n",
        "# Index the target column to convert string labels to numeric indices\n",
        "target_indexer = StringIndexer(inputCol=\"multi_label\", outputCol=\"label\").fit(transformed_train_data_for__original_intermediate)\n",
        "transformed_train_data_for__original_intermediate = target_indexer.transform(transformed_train_data_for__original_intermediate)"
      ],
      "metadata": {
        "id": "ttfSfh5gq932"
      },
      "execution_count": 25,
      "outputs": []
    },
    {
      "cell_type": "code",
      "source": [
        "historical_data = train_data.filter(col(\"date\") <= \"2016-04-28\")\n",
        "intermediate_data_0528 = train_data.filter(col(\"date\") == \"2016-05-28\")"
      ],
      "metadata": {
        "id": "dU2duGL0reCm"
      },
      "execution_count": 26,
      "outputs": []
    },
    {
      "cell_type": "code",
      "source": [
        "historical_data = process_train_data(historical_data)\n",
        "intermediate_data_0528 = process_train_data(intermediate_data_0528)\n",
        "test_data = process_test_data(test_data_processed)"
      ],
      "metadata": {
        "id": "zVXdmxoxizVn"
      },
      "execution_count": 27,
      "outputs": []
    },
    {
      "cell_type": "code",
      "source": [
        "# Create and fit the feature pipeline\n",
        "feature_pipeline = create_feature_pipeline()\n",
        "fitted_pipeline = feature_pipeline.fit(historical_data)"
      ],
      "metadata": {
        "id": "K_D6gCHUi79h"
      },
      "execution_count": 28,
      "outputs": []
    },
    {
      "cell_type": "code",
      "source": [
        "# Transform all datasets\n",
        "transformed_historical_data = fitted_pipeline.transform(historical_data)\n",
        "transformed_intermediate_data_0528 = fitted_pipeline.transform(intermediate_data_0528)\n",
        "transformed_test_data = fitted_pipeline.transform(test_data)"
      ],
      "metadata": {
        "id": "jWvcZGcAkv5f"
      },
      "execution_count": 29,
      "outputs": []
    },
    {
      "cell_type": "code",
      "source": [
        "# Create a single target column by concatenating all product columns for training data\n",
        "train_data = transformed_historical_data.withColumn(\"multi_label\", concat_ws('_', *product_columns))\n",
        "\n",
        "# Index the target column to convert string labels to numeric indices\n",
        "target_indexer = StringIndexer(inputCol=\"multi_label\", outputCol=\"label\").fit(train_data)\n",
        "train_data = target_indexer.transform(train_data)"
      ],
      "metadata": {
        "id": "kWZZZGlekWT4"
      },
      "execution_count": 30,
      "outputs": []
    },
    {
      "cell_type": "code",
      "source": [
        "# Show transformed data for verification\n",
        "train_data.select(\"label\", \"features\").show(truncate=False)\n",
        "transformed_intermediate_data_0528.select(\"features\").show(truncate=False)\n",
        "transformed_test_data.select(\"features\").show(truncate=False)\n",
        "transformed_train_data_for__original_intermediate.select(\"label\",\"features\").show(truncate=False)"
      ],
      "metadata": {
        "colab": {
          "base_uri": "https://localhost:8080/"
        },
        "id": "BJl91UpRk0Wq",
        "outputId": "3201efc4-6a91-4fcd-9887-d03f5d01245e"
      },
      "execution_count": 31,
      "outputs": [
        {
          "output_type": "stream",
          "name": "stdout",
          "text": [
            "+-----+-----------------------------------------------------------------------------------------------------------------------------+\n",
            "|label|features                                                                                                                     |\n",
            "+-----+-----------------------------------------------------------------------------------------------------------------------------+\n",
            "|0.0  |(460,[0,5,124,125,127,135,181,186,189,191,193,196,197,202,219],[1.0,1.0,1.0,1.0,1.0,1.0,1.0,1.0,1.0,1.0,1.0,1.0,1.0,1.0,1.0])|\n",
            "|0.0  |(460,[0,5,123,125,127,153,181,185,189,191,193,195,198,201,204],[1.0,1.0,1.0,1.0,1.0,1.0,1.0,1.0,1.0,1.0,1.0,1.0,1.0,1.0,1.0])|\n",
            "|0.0  |(460,[0,5,123,125,127,153,181,185,189,191,193,195,198,201,204],[1.0,1.0,1.0,1.0,1.0,1.0,1.0,1.0,1.0,1.0,1.0,1.0,1.0,1.0,1.0])|\n",
            "|81.0 |(460,[0,5,124,125,127,136,181,185,189,191,193,195,198,201,204],[1.0,1.0,1.0,1.0,1.0,1.0,1.0,1.0,1.0,1.0,1.0,1.0,1.0,1.0,1.0])|\n",
            "|0.0  |(460,[0,5,123,125,127,136,181,186,189,191,193,196,198,201,221],[1.0,1.0,1.0,1.0,1.0,1.0,1.0,1.0,1.0,1.0,1.0,1.0,1.0,1.0,1.0])|\n",
            "|0.0  |(460,[0,5,124,125,127,145,181,185,189,191,193,195,198,201,204],[1.0,1.0,1.0,1.0,1.0,1.0,1.0,1.0,1.0,1.0,1.0,1.0,1.0,1.0,1.0])|\n",
            "|0.0  |(460,[0,5,124,125,127,163,181,185,189,191,193,195,198,201,204],[1.0,1.0,1.0,1.0,1.0,1.0,1.0,1.0,1.0,1.0,1.0,1.0,1.0,1.0,1.0])|\n",
            "|0.0  |(460,[0,5,124,125,127,136,181,186,189,191,193,196,198,201,221],[1.0,1.0,1.0,1.0,1.0,1.0,1.0,1.0,1.0,1.0,1.0,1.0,1.0,1.0,1.0])|\n",
            "|0.0  |(460,[0,5,124,125,127,165,181,185,189,191,193,195,198,201,204],[1.0,1.0,1.0,1.0,1.0,1.0,1.0,1.0,1.0,1.0,1.0,1.0,1.0,1.0,1.0])|\n",
            "|0.0  |(460,[0,5,124,125,127,150,181,185,189,191,193,195,198,201,204],[1.0,1.0,1.0,1.0,1.0,1.0,1.0,1.0,1.0,1.0,1.0,1.0,1.0,1.0,1.0])|\n",
            "|0.0  |(460,[0,5,123,125,127,136,181,185,189,191,193,195,198,201,204],[1.0,1.0,1.0,1.0,1.0,1.0,1.0,1.0,1.0,1.0,1.0,1.0,1.0,1.0,1.0])|\n",
            "|0.0  |(460,[0,5,124,125,127,158,181,185,189,191,193,195,198,201,204],[1.0,1.0,1.0,1.0,1.0,1.0,1.0,1.0,1.0,1.0,1.0,1.0,1.0,1.0,1.0])|\n",
            "|0.0  |(460,[0,5,124,125,127,171,181,186,189,191,193,196,198,201,221],[1.0,1.0,1.0,1.0,1.0,1.0,1.0,1.0,1.0,1.0,1.0,1.0,1.0,1.0,1.0])|\n",
            "|0.0  |(460,[0,5,124,125,127,136,181,186,189,191,193,196,197,203,221],[1.0,1.0,1.0,1.0,1.0,1.0,1.0,1.0,1.0,1.0,1.0,1.0,1.0,1.0,1.0])|\n",
            "|0.0  |(460,[0,5,123,125,127,171,181,186,189,191,193,196,198,201,221],[1.0,1.0,1.0,1.0,1.0,1.0,1.0,1.0,1.0,1.0,1.0,1.0,1.0,1.0,1.0])|\n",
            "|0.0  |(460,[0,5,123,125,127,130,181,186,189,191,193,196,198,201,221],[1.0,1.0,1.0,1.0,1.0,1.0,1.0,1.0,1.0,1.0,1.0,1.0,1.0,1.0,1.0])|\n",
            "|0.0  |(460,[0,5,123,125,127,147,181,185,189,191,193,196,198,201,221],[1.0,1.0,1.0,1.0,1.0,1.0,1.0,1.0,1.0,1.0,1.0,1.0,1.0,1.0,1.0])|\n",
            "|0.0  |(460,[0,5,124,125,127,153,181,185,189,191,193,195,198,201,204],[1.0,1.0,1.0,1.0,1.0,1.0,1.0,1.0,1.0,1.0,1.0,1.0,1.0,1.0,1.0])|\n",
            "|0.0  |(460,[0,5,124,125,127,153,181,185,189,191,193,196,198,201,221],[1.0,1.0,1.0,1.0,1.0,1.0,1.0,1.0,1.0,1.0,1.0,1.0,1.0,1.0,1.0])|\n",
            "|0.0  |(460,[0,5,123,125,127,145,181,185,189,191,193,195,198,201,204],[1.0,1.0,1.0,1.0,1.0,1.0,1.0,1.0,1.0,1.0,1.0,1.0,1.0,1.0,1.0])|\n",
            "+-----+-----------------------------------------------------------------------------------------------------------------------------+\n",
            "only showing top 20 rows\n",
            "\n",
            "+-----------------------------------------------------------------------------------------------------------------------------+\n",
            "|features                                                                                                                     |\n",
            "+-----------------------------------------------------------------------------------------------------------------------------+\n",
            "|(460,[0,5,124,125,127,129,181,185,189,191,193,195,197,203,204],[1.0,1.0,1.0,1.0,1.0,1.0,1.0,1.0,1.0,1.0,1.0,1.0,1.0,1.0,1.0])|\n",
            "|(460,[0,5,124,125,127,129,181,186,189,191,193,196,197,200,296],[1.0,1.0,1.0,1.0,1.0,1.0,1.0,1.0,1.0,1.0,1.0,1.0,1.0,1.0,1.0])|\n",
            "|(460,[0,5,123,125,127,161,181,186,189,191,193,196,197,200,296],[1.0,1.0,1.0,1.0,1.0,1.0,1.0,1.0,1.0,1.0,1.0,1.0,1.0,1.0,1.0])|\n",
            "|(460,[0,5,123,125,127,144,181,186,189,191,193,196,197,200,296],[1.0,1.0,1.0,1.0,1.0,1.0,1.0,1.0,1.0,1.0,1.0,1.0,1.0,1.0,1.0])|\n",
            "|(460,[0,5,124,125,127,130,181,186,189,191,193,196,199,200,296],[1.0,1.0,1.0,1.0,1.0,1.0,1.0,1.0,1.0,1.0,1.0,1.0,1.0,1.0,1.0])|\n",
            "|(460,[0,5,124,125,127,144,181,185,189,191,193,195,197,202,204],[1.0,1.0,1.0,1.0,1.0,1.0,1.0,1.0,1.0,1.0,1.0,1.0,1.0,1.0,1.0])|\n",
            "|(460,[0,5,123,125,127,129,181,186,189,191,193,196,199,202,399],[1.0,1.0,1.0,1.0,1.0,1.0,1.0,1.0,1.0,1.0,1.0,1.0,1.0,1.0,1.0])|\n",
            "|(460,[0,5,123,125,127,129,181,185,189,191,193,195,197,200,204],[1.0,1.0,1.0,1.0,1.0,1.0,1.0,1.0,1.0,1.0,1.0,1.0,1.0,1.0,1.0])|\n",
            "|(460,[0,5,123,125,127,129,181,185,189,191,193,195,197,200,204],[1.0,1.0,1.0,1.0,1.0,1.0,1.0,1.0,1.0,1.0,1.0,1.0,1.0,1.0,1.0])|\n",
            "|(460,[0,5,123,125,127,129,181,185,189,191,193,195,197,202,204],[1.0,1.0,1.0,1.0,1.0,1.0,1.0,1.0,1.0,1.0,1.0,1.0,1.0,1.0,1.0])|\n",
            "|(460,[0,5,123,125,127,129,181,186,189,191,193,196,199,203,296],[1.0,1.0,1.0,1.0,1.0,1.0,1.0,1.0,1.0,1.0,1.0,1.0,1.0,1.0,1.0])|\n",
            "|(460,[0,5,123,125,127,129,181,185,189,191,193,195,197,202,204],[1.0,1.0,1.0,1.0,1.0,1.0,1.0,1.0,1.0,1.0,1.0,1.0,1.0,1.0,1.0])|\n",
            "|(460,[0,5,123,125,127,130,181,186,189,191,193,196,197,202,296],[1.0,1.0,1.0,1.0,1.0,1.0,1.0,1.0,1.0,1.0,1.0,1.0,1.0,1.0,1.0])|\n",
            "|(460,[0,5,124,125,127,130,181,185,189,191,193,195,197,202,204],[1.0,1.0,1.0,1.0,1.0,1.0,1.0,1.0,1.0,1.0,1.0,1.0,1.0,1.0,1.0])|\n",
            "|(460,[0,5,124,125,127,129,181,185,189,191,193,195,197,200,204],[1.0,1.0,1.0,1.0,1.0,1.0,1.0,1.0,1.0,1.0,1.0,1.0,1.0,1.0,1.0])|\n",
            "|(460,[0,5,124,125,127,129,181,185,189,191,193,195,197,200,204],[1.0,1.0,1.0,1.0,1.0,1.0,1.0,1.0,1.0,1.0,1.0,1.0,1.0,1.0,1.0])|\n",
            "|(460,[0,5,123,125,127,144,181,186,189,191,193,196,197,202,296],[1.0,1.0,1.0,1.0,1.0,1.0,1.0,1.0,1.0,1.0,1.0,1.0,1.0,1.0,1.0])|\n",
            "|(460,[0,5,123,125,127,136,181,186,189,191,193,195,197,203,204],[1.0,1.0,1.0,1.0,1.0,1.0,1.0,1.0,1.0,1.0,1.0,1.0,1.0,1.0,1.0])|\n",
            "|(460,[0,5,124,125,127,132,181,185,189,191,193,195,197,200,204],[1.0,1.0,1.0,1.0,1.0,1.0,1.0,1.0,1.0,1.0,1.0,1.0,1.0,1.0,1.0])|\n",
            "|(460,[0,5,124,125,127,142,181,186,189,191,193,196,197,202,296],[1.0,1.0,1.0,1.0,1.0,1.0,1.0,1.0,1.0,1.0,1.0,1.0,1.0,1.0,1.0])|\n",
            "+-----------------------------------------------------------------------------------------------------------------------------+\n",
            "only showing top 20 rows\n",
            "\n",
            "+-----------------------------------------------------------------------------------------------------------------------------+\n",
            "|features                                                                                                                     |\n",
            "+-----------------------------------------------------------------------------------------------------------------------------+\n",
            "|(460,[2,5,123,125,127,129,181,186,189,191,193,196,199,200],[1.0,1.0,1.0,1.0,1.0,1.0,1.0,1.0,1.0,1.0,1.0,1.0,1.0,1.0])        |\n",
            "|(460,[0,5,124,125,127,137,181,185,189,191,193,195,197,202,204],[1.0,1.0,1.0,1.0,1.0,1.0,1.0,1.0,1.0,1.0,1.0,1.0,1.0,1.0,1.0])|\n",
            "|(460,[0,5,123,125,127,133,181,186,189,191,193,196,198,201,233],[1.0,1.0,1.0,1.0,1.0,1.0,1.0,1.0,1.0,1.0,1.0,1.0,1.0,1.0,1.0])|\n",
            "|(460,[0,5,124,125,127,130,181,185,189,191,193,195,198,201,204],[1.0,1.0,1.0,1.0,1.0,1.0,1.0,1.0,1.0,1.0,1.0,1.0,1.0,1.0,1.0])|\n",
            "|(460,[0,5,124,125,127,151,181,185,189,191,193,195,198,201,204],[1.0,1.0,1.0,1.0,1.0,1.0,1.0,1.0,1.0,1.0,1.0,1.0,1.0,1.0,1.0])|\n",
            "|(460,[0,5,123,125,127,130,181,185,189,191,193,195,198,201,204],[1.0,1.0,1.0,1.0,1.0,1.0,1.0,1.0,1.0,1.0,1.0,1.0,1.0,1.0,1.0])|\n",
            "|(460,[0,5,124,125,127,142,181,186,189,191,193,196,197,200,233],[1.0,1.0,1.0,1.0,1.0,1.0,1.0,1.0,1.0,1.0,1.0,1.0,1.0,1.0,1.0])|\n",
            "|(460,[0,5,124,125,127,145,181,185,189,191,193,195,198,201,204],[1.0,1.0,1.0,1.0,1.0,1.0,1.0,1.0,1.0,1.0,1.0,1.0,1.0,1.0,1.0])|\n",
            "|(460,[0,5,123,125,127,129,181,185,189,191,193,195,198,201,204],[1.0,1.0,1.0,1.0,1.0,1.0,1.0,1.0,1.0,1.0,1.0,1.0,1.0,1.0,1.0])|\n",
            "|(460,[0,5,124,125,127,133,181,186,189,191,193,196,198,201,233],[1.0,1.0,1.0,1.0,1.0,1.0,1.0,1.0,1.0,1.0,1.0,1.0,1.0,1.0,1.0])|\n",
            "|(460,[0,5,124,125,127,149,181,185,189,191,193,195,198,201,204],[1.0,1.0,1.0,1.0,1.0,1.0,1.0,1.0,1.0,1.0,1.0,1.0,1.0,1.0,1.0])|\n",
            "|(460,[0,5,124,125,127,129,181,185,189,191,193,195,198,201,204],[1.0,1.0,1.0,1.0,1.0,1.0,1.0,1.0,1.0,1.0,1.0,1.0,1.0,1.0,1.0])|\n",
            "|(460,[0,5,124,125,127,130,181,185,189,191,193,195,198,201,204],[1.0,1.0,1.0,1.0,1.0,1.0,1.0,1.0,1.0,1.0,1.0,1.0,1.0,1.0,1.0])|\n",
            "|(460,[0,5,124,125,127,133,181,185,189,191,193,195,198,201,204],[1.0,1.0,1.0,1.0,1.0,1.0,1.0,1.0,1.0,1.0,1.0,1.0,1.0,1.0,1.0])|\n",
            "|(460,[0,5,124,125,127,134,181,185,189,191,193,195,198,201,204],[1.0,1.0,1.0,1.0,1.0,1.0,1.0,1.0,1.0,1.0,1.0,1.0,1.0,1.0,1.0])|\n",
            "|(460,[0,5,124,125,127,129,181,186,189,191,193,196,198,201,233],[1.0,1.0,1.0,1.0,1.0,1.0,1.0,1.0,1.0,1.0,1.0,1.0,1.0,1.0,1.0])|\n",
            "|(460,[0,5,123,125,127,133,181,186,189,191,193,195,198,201,204],[1.0,1.0,1.0,1.0,1.0,1.0,1.0,1.0,1.0,1.0,1.0,1.0,1.0,1.0,1.0])|\n",
            "|(460,[0,5,123,125,127,130,181,185,189,191,193,195,197,200,204],[1.0,1.0,1.0,1.0,1.0,1.0,1.0,1.0,1.0,1.0,1.0,1.0,1.0,1.0,1.0])|\n",
            "|(460,[0,5,124,125,127,134,181,186,189,191,193,196,197,202,233],[1.0,1.0,1.0,1.0,1.0,1.0,1.0,1.0,1.0,1.0,1.0,1.0,1.0,1.0,1.0])|\n",
            "|(460,[0,5,124,125,127,129,181,185,189,191,193,195,198,201,204],[1.0,1.0,1.0,1.0,1.0,1.0,1.0,1.0,1.0,1.0,1.0,1.0,1.0,1.0,1.0])|\n",
            "+-----------------------------------------------------------------------------------------------------------------------------+\n",
            "only showing top 20 rows\n",
            "\n",
            "+-----+-----------------------------------------------------------------------------------------------------------------------------+\n",
            "|label|features                                                                                                                     |\n",
            "+-----+-----------------------------------------------------------------------------------------------------------------------------+\n",
            "|0.0  |(461,[0,5,124,125,127,135,181,186,189,191,193,196,197,202,218],[1.0,1.0,1.0,1.0,1.0,1.0,1.0,1.0,1.0,1.0,1.0,1.0,1.0,1.0,1.0])|\n",
            "|0.0  |(461,[0,5,123,125,127,153,181,185,189,191,193,195,198,201,204],[1.0,1.0,1.0,1.0,1.0,1.0,1.0,1.0,1.0,1.0,1.0,1.0,1.0,1.0,1.0])|\n",
            "|0.0  |(461,[0,5,123,125,127,153,181,185,189,191,193,195,198,201,204],[1.0,1.0,1.0,1.0,1.0,1.0,1.0,1.0,1.0,1.0,1.0,1.0,1.0,1.0,1.0])|\n",
            "|90.0 |(461,[0,5,124,125,127,136,181,185,189,191,193,195,198,201,204],[1.0,1.0,1.0,1.0,1.0,1.0,1.0,1.0,1.0,1.0,1.0,1.0,1.0,1.0,1.0])|\n",
            "|0.0  |(461,[0,5,123,125,127,136,181,186,189,191,193,196,198,201,224],[1.0,1.0,1.0,1.0,1.0,1.0,1.0,1.0,1.0,1.0,1.0,1.0,1.0,1.0,1.0])|\n",
            "|0.0  |(461,[0,5,124,125,127,145,181,185,189,191,193,195,198,201,204],[1.0,1.0,1.0,1.0,1.0,1.0,1.0,1.0,1.0,1.0,1.0,1.0,1.0,1.0,1.0])|\n",
            "|0.0  |(461,[0,5,124,125,127,163,181,185,189,191,193,195,198,201,204],[1.0,1.0,1.0,1.0,1.0,1.0,1.0,1.0,1.0,1.0,1.0,1.0,1.0,1.0,1.0])|\n",
            "|0.0  |(461,[0,5,124,125,127,136,181,186,189,191,193,196,198,201,224],[1.0,1.0,1.0,1.0,1.0,1.0,1.0,1.0,1.0,1.0,1.0,1.0,1.0,1.0,1.0])|\n",
            "|0.0  |(461,[0,5,124,125,127,165,181,185,189,191,193,195,198,201,204],[1.0,1.0,1.0,1.0,1.0,1.0,1.0,1.0,1.0,1.0,1.0,1.0,1.0,1.0,1.0])|\n",
            "|0.0  |(461,[0,5,124,125,127,150,181,185,189,191,193,195,198,201,204],[1.0,1.0,1.0,1.0,1.0,1.0,1.0,1.0,1.0,1.0,1.0,1.0,1.0,1.0,1.0])|\n",
            "|0.0  |(461,[0,5,123,125,127,136,181,185,189,191,193,195,198,201,204],[1.0,1.0,1.0,1.0,1.0,1.0,1.0,1.0,1.0,1.0,1.0,1.0,1.0,1.0,1.0])|\n",
            "|0.0  |(461,[0,5,124,125,127,158,181,185,189,191,193,195,198,201,204],[1.0,1.0,1.0,1.0,1.0,1.0,1.0,1.0,1.0,1.0,1.0,1.0,1.0,1.0,1.0])|\n",
            "|0.0  |(461,[0,5,124,125,127,171,181,186,189,191,193,196,198,201,224],[1.0,1.0,1.0,1.0,1.0,1.0,1.0,1.0,1.0,1.0,1.0,1.0,1.0,1.0,1.0])|\n",
            "|0.0  |(461,[0,5,124,125,127,136,181,186,189,191,193,196,197,203,224],[1.0,1.0,1.0,1.0,1.0,1.0,1.0,1.0,1.0,1.0,1.0,1.0,1.0,1.0,1.0])|\n",
            "|0.0  |(461,[0,5,123,125,127,171,181,186,189,191,193,196,198,201,224],[1.0,1.0,1.0,1.0,1.0,1.0,1.0,1.0,1.0,1.0,1.0,1.0,1.0,1.0,1.0])|\n",
            "|0.0  |(461,[0,5,123,125,127,130,181,186,189,191,193,196,198,201,224],[1.0,1.0,1.0,1.0,1.0,1.0,1.0,1.0,1.0,1.0,1.0,1.0,1.0,1.0,1.0])|\n",
            "|0.0  |(461,[0,5,123,125,127,147,181,185,189,191,193,196,198,201,224],[1.0,1.0,1.0,1.0,1.0,1.0,1.0,1.0,1.0,1.0,1.0,1.0,1.0,1.0,1.0])|\n",
            "|0.0  |(461,[0,5,124,125,127,153,181,185,189,191,193,195,198,201,204],[1.0,1.0,1.0,1.0,1.0,1.0,1.0,1.0,1.0,1.0,1.0,1.0,1.0,1.0,1.0])|\n",
            "|0.0  |(461,[0,5,124,125,127,153,181,185,189,191,193,196,198,201,224],[1.0,1.0,1.0,1.0,1.0,1.0,1.0,1.0,1.0,1.0,1.0,1.0,1.0,1.0,1.0])|\n",
            "|0.0  |(461,[0,5,123,125,127,145,181,185,189,191,193,195,198,201,204],[1.0,1.0,1.0,1.0,1.0,1.0,1.0,1.0,1.0,1.0,1.0,1.0,1.0,1.0,1.0])|\n",
            "+-----+-----------------------------------------------------------------------------------------------------------------------------+\n",
            "only showing top 20 rows\n",
            "\n"
          ]
        }
      ]
    },
    {
      "cell_type": "code",
      "source": [],
      "metadata": {
        "id": "bqY9QTi4lLxw"
      },
      "execution_count": 31,
      "outputs": []
    },
    {
      "cell_type": "code",
      "source": [
        "# Import necessary libraries\n",
        "from pyspark.sql import SparkSession\n",
        "from pyspark.sql.utils import AnalysisException\n",
        "\n",
        "# Define the paths to save the Parquet files on Google Drive\n",
        "parquet_path1 = '/content/drive/My Drive/santander-product-recommendation/train_data.parquet'\n",
        "parquet_path2 = '/content/drive/My Drive/santander-product-recommendation/transformed_intermediate_data_0528.parquet'\n",
        "parquet_path3 = '/content/drive/My Drive/santander-product-recommendation/transformed_test_data.parquet'\n",
        "parquet_path4 = '/content/drive/My Drive/santander-product-recommendation/transformed_train_data_for_original_intermediate.parquet'\n",
        "\n",
        "# Function to save DataFrame to Parquet with overwrite mode and error handling\n",
        "def save_dataframe(df, path):\n",
        "    try:\n",
        "        df.write.mode('overwrite').parquet(path)\n",
        "        print(f\"DataFrame saved to {path}\")\n",
        "    except AnalysisException as e:\n",
        "        print(f\"Failed to save DataFrame to {path}. Error: {e}\")"
      ],
      "metadata": {
        "id": "G8BszUpAk0MZ"
      },
      "execution_count": 32,
      "outputs": []
    },
    {
      "cell_type": "code",
      "source": [
        "save_dataframe(transformed_train_data_for__original_intermediate, parquet_path4)"
      ],
      "metadata": {
        "colab": {
          "base_uri": "https://localhost:8080/"
        },
        "id": "0ZT0xXUhzDYy",
        "outputId": "f6082441-a5d2-449f-ca5a-f3df9d388ea4"
      },
      "execution_count": 29,
      "outputs": [
        {
          "output_type": "stream",
          "name": "stdout",
          "text": [
            "DataFrame saved to /content/drive/My Drive/santander-product-recommendation/transformed_train_data_for_original_intermediate.parquet\n"
          ]
        }
      ]
    },
    {
      "cell_type": "code",
      "source": [
        "save_dataframe(train_data, parquet_path1)"
      ],
      "metadata": {
        "id": "dZn9Aj4Hk6r4"
      },
      "execution_count": null,
      "outputs": []
    },
    {
      "cell_type": "code",
      "source": [
        "save_dataframe(transformed_intermediate_data_0528, parquet_path2)"
      ],
      "metadata": {
        "id": "AM43dqUOlk36"
      },
      "execution_count": null,
      "outputs": []
    },
    {
      "cell_type": "code",
      "source": [
        "save_dataframe(transformed_test_data, parquet_path3)"
      ],
      "metadata": {
        "id": "4Og_RFVzlktq"
      },
      "execution_count": null,
      "outputs": []
    },
    {
      "cell_type": "code",
      "source": [],
      "metadata": {
        "id": "9yeFYKp_ltPG"
      },
      "execution_count": null,
      "outputs": []
    },
    {
      "cell_type": "code",
      "source": [],
      "metadata": {
        "id": "vxSXMeINloxC"
      },
      "execution_count": null,
      "outputs": []
    },
    {
      "cell_type": "code",
      "source": [],
      "metadata": {
        "id": "n0g-hsTRenS_"
      },
      "execution_count": null,
      "outputs": []
    },
    {
      "cell_type": "code",
      "source": [],
      "metadata": {
        "id": "P4cAWYKtenKV"
      },
      "execution_count": null,
      "outputs": []
    },
    {
      "cell_type": "code",
      "source": [],
      "metadata": {
        "id": "Zqkcl15ck1wi"
      },
      "execution_count": null,
      "outputs": []
    },
    {
      "cell_type": "code",
      "source": [],
      "metadata": {
        "id": "YjgPxQ_3enA0"
      },
      "execution_count": null,
      "outputs": []
    },
    {
      "cell_type": "code",
      "source": [],
      "metadata": {
        "id": "d30YZvwSynSi"
      },
      "execution_count": null,
      "outputs": []
    },
    {
      "cell_type": "code",
      "source": [],
      "metadata": {
        "id": "d-pN9GoyynNv"
      },
      "execution_count": null,
      "outputs": []
    },
    {
      "cell_type": "code",
      "source": [],
      "metadata": {
        "id": "drtXpx9MwjVv"
      },
      "execution_count": null,
      "outputs": []
    }
  ]
}