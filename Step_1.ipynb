{
  "nbformat": 4,
  "nbformat_minor": 0,
  "metadata": {
    "colab": {
      "provenance": [],
      "gpuType": "A100",
      "machine_shape": "hm",
      "authorship_tag": "ABX9TyP1e/LFfkRE0HFB6+u0Qy5v",
      "include_colab_link": true
    },
    "kernelspec": {
      "name": "python3",
      "display_name": "Python 3"
    },
    "language_info": {
      "name": "python"
    },
    "accelerator": "GPU"
  },
  "cells": [
    {
      "cell_type": "markdown",
      "metadata": {
        "id": "view-in-github",
        "colab_type": "text"
      },
      "source": [
        "<a href=\"https://colab.research.google.com/github/varsha6319/Product_Rec/blob/main/Step_1.ipynb\" target=\"_parent\"><img src=\"https://colab.research.google.com/assets/colab-badge.svg\" alt=\"Open In Colab\"/></a>"
      ]
    },
    {
      "cell_type": "code",
      "execution_count": null,
      "metadata": {
        "id": "d8L6CxcD09NF",
        "colab": {
          "base_uri": "https://localhost:8080/"
        },
        "outputId": "3f8b0333-42d9-4f27-ff15-b3381a45b8cd"
      },
      "outputs": [
        {
          "output_type": "stream",
          "name": "stdout",
          "text": [
            "Mounted at /content/drive\n"
          ]
        }
      ],
      "source": [
        "from google.colab import drive\n",
        "drive.mount('/content/drive')"
      ]
    },
    {
      "cell_type": "code",
      "source": [
        "# # Step 1: Install PySpark\n",
        "# !pip install pyspark"
      ],
      "metadata": {
        "id": "PLXkeJWy41Rj"
      },
      "execution_count": null,
      "outputs": []
    },
    {
      "cell_type": "code",
      "source": [
        "!pip install pyspark==3.3.0"
      ],
      "metadata": {
        "id": "MbfnHyZoX8z1",
        "colab": {
          "base_uri": "https://localhost:8080/"
        },
        "outputId": "1e5f811f-441d-487c-8778-f9c98ca3ccfc"
      },
      "execution_count": null,
      "outputs": [
        {
          "output_type": "stream",
          "name": "stdout",
          "text": [
            "Collecting pyspark==3.3.0\n",
            "  Downloading pyspark-3.3.0.tar.gz (281.3 MB)\n",
            "\u001b[2K     \u001b[90m━━━━━━━━━━━━━━━━━━━━━━━━━━━━━━━━━━━━━━━━\u001b[0m \u001b[32m281.3/281.3 MB\u001b[0m \u001b[31m6.0 MB/s\u001b[0m eta \u001b[36m0:00:00\u001b[0m\n",
            "\u001b[?25h  Preparing metadata (setup.py) ... \u001b[?25l\u001b[?25hdone\n",
            "Collecting py4j==0.10.9.5 (from pyspark==3.3.0)\n",
            "  Downloading py4j-0.10.9.5-py2.py3-none-any.whl (199 kB)\n",
            "\u001b[2K     \u001b[90m━━━━━━━━━━━━━━━━━━━━━━━━━━━━━━━━━━━━━━━━\u001b[0m \u001b[32m199.7/199.7 kB\u001b[0m \u001b[31m27.1 MB/s\u001b[0m eta \u001b[36m0:00:00\u001b[0m\n",
            "\u001b[?25hBuilding wheels for collected packages: pyspark\n",
            "  Building wheel for pyspark (setup.py) ... \u001b[?25l\u001b[?25hdone\n",
            "  Created wheel for pyspark: filename=pyspark-3.3.0-py2.py3-none-any.whl size=281764004 sha256=8484d31fd52b5fed354b85c63060ad028558236e126ade333db47e6b1b6f18d3\n",
            "  Stored in directory: /root/.cache/pip/wheels/81/9c/6c/d5200fcf351ffa39cbe09911e99703283624cd037df58070d9\n",
            "Successfully built pyspark\n",
            "Installing collected packages: py4j, pyspark\n",
            "  Attempting uninstall: py4j\n",
            "    Found existing installation: py4j 0.10.9.7\n",
            "    Uninstalling py4j-0.10.9.7:\n",
            "      Successfully uninstalled py4j-0.10.9.7\n",
            "Successfully installed py4j-0.10.9.5 pyspark-3.3.0\n"
          ]
        }
      ]
    },
    {
      "cell_type": "code",
      "source": [
        "# Download the RAPIDS Accelerator jar\n",
        "!wget https://repo1.maven.org/maven2/com/nvidia/rapids-4-spark_2.12/23.02.0/rapids-4-spark_2.12-23.02.0.jar\n",
        "\n",
        "# Download the cuDF jar\n",
        "!wget https://repo1.maven.org/maven2/ai/rapids/cudf/23.02.0/cudf-23.02.0-cuda11.jar\n"
      ],
      "metadata": {
        "colab": {
          "base_uri": "https://localhost:8080/"
        },
        "id": "yCWavabZia9J",
        "outputId": "b98e183b-2841-487d-bfb1-842d33fe337f"
      },
      "execution_count": null,
      "outputs": [
        {
          "output_type": "stream",
          "name": "stdout",
          "text": [
            "--2024-06-16 04:34:12--  https://repo1.maven.org/maven2/com/nvidia/rapids-4-spark_2.12/23.02.0/rapids-4-spark_2.12-23.02.0.jar\n",
            "Resolving repo1.maven.org (repo1.maven.org)... 199.232.192.209, 199.232.196.209, 2a04:4e42:4c::209, ...\n",
            "Connecting to repo1.maven.org (repo1.maven.org)|199.232.192.209|:443... connected.\n",
            "HTTP request sent, awaiting response... 200 OK\n",
            "Length: 502311252 (479M) [application/java-archive]\n",
            "Saving to: ‘rapids-4-spark_2.12-23.02.0.jar’\n",
            "\n",
            "rapids-4-spark_2.12 100%[===================>] 479.04M  23.9MB/s    in 21s     \n",
            "\n",
            "2024-06-16 04:34:33 (22.9 MB/s) - ‘rapids-4-spark_2.12-23.02.0.jar’ saved [502311252/502311252]\n",
            "\n",
            "--2024-06-16 04:34:33--  https://repo1.maven.org/maven2/ai/rapids/cudf/23.02.0/cudf-23.02.0-cuda11.jar\n",
            "Resolving repo1.maven.org (repo1.maven.org)... 199.232.192.209, 199.232.196.209, 2a04:4e42:4c::209, ...\n",
            "Connecting to repo1.maven.org (repo1.maven.org)|199.232.192.209|:443... connected.\n",
            "HTTP request sent, awaiting response... 200 OK\n",
            "Length: 446056454 (425M) [application/java-archive]\n",
            "Saving to: ‘cudf-23.02.0-cuda11.jar’\n",
            "\n",
            "cudf-23.02.0-cuda11 100%[===================>] 425.39M  24.6MB/s    in 19s     \n",
            "\n",
            "2024-06-16 04:34:53 (23.0 MB/s) - ‘cudf-23.02.0-cuda11.jar’ saved [446056454/446056454]\n",
            "\n"
          ]
        }
      ]
    },
    {
      "cell_type": "code",
      "source": [
        "from pyspark.sql import SparkSession\n",
        "import zipfile\n",
        "import os\n",
        "from pyspark.sql import functions as F\n",
        "from pyspark.sql.functions import col, when, to_date, percentile_approx, round\n",
        "\n",
        "import matplotlib.pyplot as plt"
      ],
      "metadata": {
        "id": "hjFuf0RS42xC"
      },
      "execution_count": null,
      "outputs": []
    },
    {
      "cell_type": "code",
      "source": [
        "spark = SparkSession.builder \\\n",
        "    .appName(\"RandomForest_GPU\") \\\n",
        "    .config(\"spark.executor.memory\", \"8g\") \\\n",
        "    .config(\"spark.executor.cores\", \"4\") \\\n",
        "    .config(\"spark.ui.port\", \"4040\").getOrCreate()"
      ],
      "metadata": {
        "id": "3bYnghNyTXDI"
      },
      "execution_count": null,
      "outputs": []
    },
    {
      "cell_type": "code",
      "source": [
        "# Function to unzip the file\n",
        "def unzip_file(zip_path, output_dir):\n",
        "    with zipfile.ZipFile(zip_path, 'r') as zip_ref:\n",
        "        zip_ref.extractall(output_dir)\n",
        "\n",
        "train_data_path = \"/content/drive/My Drive/santander-product-recommendation/train_ver2.csv.zip\"\n",
        "test_data_path = \"/content/drive/My Drive/santander-product-recommendation/test_ver2.csv.zip\"\n",
        "\n",
        "# Unzip train and test data files\n",
        "train_unzipped_dir = \"/content/train_data\"\n",
        "test_unzipped_dir = \"/content/test_data\"\n",
        "unzip_file(train_data_path, train_unzipped_dir)\n",
        "unzip_file(test_data_path, test_unzipped_dir)\n",
        "\n",
        "train_csv_path = os.path.join(train_unzipped_dir, os.listdir(train_unzipped_dir)[0])\n",
        "test_csv_path = os.path.join(test_unzipped_dir, os.listdir(test_unzipped_dir)[0])\n",
        "\n",
        "# Read train and test data from CSV files\n",
        "train_df = spark.read.option(\"header\", True).csv(train_csv_path, inferSchema=True)\n",
        "test_df = spark.read.option(\"header\", True).csv(test_csv_path, inferSchema=True)\n"
      ],
      "metadata": {
        "id": "3kc4TL5pldsi"
      },
      "execution_count": null,
      "outputs": []
    },
    {
      "cell_type": "code",
      "source": [
        "\n",
        "train_df.printSchema()\n",
        "test_df.printSchema()"
      ],
      "metadata": {
        "id": "mWQ2cWLNllhe"
      },
      "execution_count": null,
      "outputs": []
    },
    {
      "cell_type": "code",
      "source": [
        "column_mapping = {\n",
        "    \"fecha_dato\": \"date\",\n",
        "    \"ncodpers\": \"customer_code\",\n",
        "    \"ind_empleado\": \"employee_index\",\n",
        "    \"pais_residencia\": \"country_residence\",\n",
        "    \"sexo\": \"sex\",\n",
        "    \"age\": \"age\",\n",
        "    \"fecha_alta\": \"first_contract_date\",\n",
        "    \"ind_nuevo\": \"new_customer_index\",\n",
        "    \"antiguedad\": \"customer_seniority\",\n",
        "    \"indrel\": \"primary_customer_index\",\n",
        "    \"ult_fec_cli_1t\": \"last_primary_date\",\n",
        "    \"indrel_1mes\": \"customer_type_start_month\",\n",
        "    \"tiprel_1mes\": \"customer_relation_type_start_month\",\n",
        "    \"indresi\": \"residence_index\",\n",
        "    \"indext\": \"foreigner_index\",\n",
        "    \"conyuemp\": \"spouse_employee_index\",\n",
        "    \"canal_entrada\": \"entry_channel\",\n",
        "    \"indfall\": \"deceased_index\",\n",
        "    \"tipodom\": \"address_type\",\n",
        "    \"cod_prov\": \"province_code\",\n",
        "    \"nomprov\": \"province_name\",\n",
        "    \"ind_actividad_cliente\": \"customer_activity_index\",\n",
        "    \"renta\": \"household_income\",\n",
        "    \"segmento\": \"customer_segment\",\n",
        "    \"ind_ahor_fin_ult1\": \"savings_account\",\n",
        "    \"ind_aval_fin_ult1\": \"guarantees\",\n",
        "    \"ind_cco_fin_ult1\": \"current_accounts\",\n",
        "    \"ind_cder_fin_ult1\": \"derivada_account\",\n",
        "    \"ind_cno_fin_ult1\": \"payroll_account\",\n",
        "    \"ind_ctju_fin_ult1\": \"junior_account\",\n",
        "    \"ind_ctma_fin_ult1\": \"mas_particular_account\",\n",
        "    \"ind_ctop_fin_ult1\": \"particular_account\",\n",
        "    \"ind_ctpp_fin_ult1\": \"particular_plus_account\",\n",
        "    \"ind_deco_fin_ult1\": \"short_term_deposits\",\n",
        "    \"ind_deme_fin_ult1\": \"medium_term_deposits\",\n",
        "    \"ind_dela_fin_ult1\": \"long_term_deposits\",\n",
        "    \"ind_ecue_fin_ult1\": \"e_account\",\n",
        "    \"ind_fond_fin_ult1\": \"funds\",\n",
        "    \"ind_hip_fin_ult1\": \"mortgage\",\n",
        "    \"ind_plan_fin_ult1\": \"pension_plans\",\n",
        "    \"ind_pres_fin_ult1\": \"loans\",\n",
        "    \"ind_reca_fin_ult1\": \"taxes\",\n",
        "    \"ind_tjcr_fin_ult1\": \"credit_card\",\n",
        "    \"ind_valo_fin_ult1\": \"securities\",\n",
        "    \"ind_viv_fin_ult1\": \"home_account\",\n",
        "    \"ind_nomina_ult1\": \"payroll\",\n",
        "    \"ind_nom_pens_ult1\": \"pensions_nom\",\n",
        "    \"ind_recibo_ult1\": \"direct_debit\"\n",
        "}"
      ],
      "metadata": {
        "id": "gQUEOKnH2llQ"
      },
      "execution_count": null,
      "outputs": []
    },
    {
      "cell_type": "code",
      "source": [
        "for old_col, new_col in column_mapping.items():\n",
        "  train_df = train_df.withColumnRenamed(old_col, new_col)\n",
        "\n",
        "train_df.show()"
      ],
      "metadata": {
        "id": "sjFnOVUtJf8d",
        "colab": {
          "base_uri": "https://localhost:8080/"
        },
        "outputId": "5b24650d-6a81-4553-c387-b26b93b02af7"
      },
      "execution_count": null,
      "outputs": [
        {
          "output_type": "stream",
          "name": "stdout",
          "text": [
            "+-------------------+-------------+--------------+-----------------+---+---+-------------------+------------------+------------------+----------------------+-----------------+-------------------------+----------------------------------+---------------+---------------+---------------------+-------------+--------------+------------+-------------+-------------+-----------------------+------------------+------------------+---------------+----------+----------------+----------------+---------------+--------------+----------------------+------------------+-----------------------+-------------------+--------------------+------------------+---------+-----+--------+-------------+-----+-----+-----------+----------+------------+-------+------------+------------+\n",
            "|               date|customer_code|employee_index|country_residence|sex|age|first_contract_date|new_customer_index|customer_seniority|primary_customer_index|last_primary_date|customer_type_start_month|customer_relation_type_start_month|residence_index|foreigner_index|spouse_employee_index|entry_channel|deceased_index|address_type|province_code|province_name|customer_activity_index|  household_income|  customer_segment|savings_account|guarantees|current_accounts|derivada_account|payroll_account|junior_account|mas_particular_account|particular_account|particular_plus_account|short_term_deposits|medium_term_deposits|long_term_deposits|e_account|funds|mortgage|pension_plans|loans|taxes|credit_card|securities|home_account|payroll|pensions_nom|direct_debit|\n",
            "+-------------------+-------------+--------------+-----------------+---+---+-------------------+------------------+------------------+----------------------+-----------------+-------------------------+----------------------------------+---------------+---------------+---------------------+-------------+--------------+------------+-------------+-------------+-----------------------+------------------+------------------+---------------+----------+----------------+----------------+---------------+--------------+----------------------+------------------+-----------------------+-------------------+--------------------+------------------+---------+-----+--------+-------------+-----+-----+-----------+----------+------------+-------+------------+------------+\n",
            "|2015-01-28 00:00:00|    1375586.0|             N|               ES|  H| 35|2015-01-12 00:00:00|                 0|                 6|                     1|             null|                      1.0|                                 A|              S|              N|                 null|          KHL|             N|           1|           29|       MALAGA|                      1|           87218.1| 02 - PARTICULARES|              0|         0|               1|               0|              0|             0|                     0|                 0|                      0|                  0|                   0|                 0|        0|    0|       0|            0|    0|    0|          0|         0|           0|      0|           0|           0|\n",
            "|2015-01-28 00:00:00|    1050611.0|             N|               ES|  V| 23|2012-08-10 00:00:00|                 0|                35|                     1|             null|                        1|                                 I|              S|              S|                 null|          KHE|             N|           1|           13|  CIUDAD REAL|                      0|          35548.74|03 - UNIVERSITARIO|              0|         0|               1|               0|              0|             0|                     0|                 0|                      0|                  0|                   0|                 0|        0|    0|       0|            0|    0|    0|          0|         0|           0|      0|           0|           0|\n",
            "|2015-01-28 00:00:00|    1050612.0|             N|               ES|  V| 23|2012-08-10 00:00:00|                 0|                35|                     1|             null|                        1|                                 I|              S|              N|                 null|          KHE|             N|           1|           13|  CIUDAD REAL|                      0|122179.11000000002|03 - UNIVERSITARIO|              0|         0|               1|               0|              0|             0|                     0|                 0|                      0|                  0|                   0|                 0|        0|    0|       0|            0|    0|    0|          0|         0|           0|      0|           0|           0|\n",
            "|2015-01-28 00:00:00|    1050613.0|             N|               ES|  H| 22|2012-08-10 00:00:00|                 0|                35|                     1|             null|                        1|                                 I|              S|              N|                 null|          KHD|             N|           1|           50|     ZARAGOZA|                      0|         119775.54|03 - UNIVERSITARIO|              0|         0|               0|               0|              0|             0|                     0|                 0|                      0|                  1|                   0|                 0|        0|    0|       0|            0|    0|    0|          0|         0|           0|      0|           0|           0|\n",
            "|2015-01-28 00:00:00|    1050614.0|             N|               ES|  V| 23|2012-08-10 00:00:00|                 0|                35|                     1|             null|                        1|                                 A|              S|              N|                 null|          KHE|             N|           1|           50|     ZARAGOZA|                      1|              null|03 - UNIVERSITARIO|              0|         0|               1|               0|              0|             0|                     0|                 0|                      0|                  0|                   0|                 0|        0|    0|       0|            0|    0|    0|          0|         0|           0|      0|           0|           0|\n",
            "|2015-01-28 00:00:00|    1050615.0|             N|               ES|  H| 23|2012-08-10 00:00:00|                 0|                35|                     1|             null|                        1|                                 I|              S|              N|                 null|          KHE|             N|           1|           45|       TOLEDO|                      0|          22220.04|03 - UNIVERSITARIO|              0|         0|               1|               0|              0|             0|                     0|                 0|                      0|                  0|                   0|                 0|        0|    0|       0|            0|    0|    0|          0|         0|           0|      0|           0|           0|\n",
            "|2015-01-28 00:00:00|    1050616.0|             N|               ES|  H| 23|2012-08-10 00:00:00|                 0|                35|                     1|             null|                        1|                                 I|              S|              N|                 null|          KHE|             N|           1|           24|         LEON|                      0|         295590.36|03 - UNIVERSITARIO|              0|         0|               1|               0|              0|             0|                     0|                 0|                      0|                  0|                   0|                 0|        0|    0|       0|            0|    0|    0|          0|         0|           0|      0|           0|           0|\n",
            "|2015-01-28 00:00:00|    1050617.0|             N|               ES|  H| 23|2012-08-10 00:00:00|                 0|                35|                     1|             null|                        1|                                 A|              S|              N|                 null|          KHE|             N|           1|           50|     ZARAGOZA|                      1|         113316.66|03 - UNIVERSITARIO|              0|         0|               1|               0|              0|             0|                     0|                 0|                      0|                  0|                   0|                 0|        0|    0|       0|            0|    0|    0|          0|         0|           0|      0|           0|           0|\n",
            "|2015-01-28 00:00:00|    1050619.0|             N|               ES|  H| 24|2012-08-10 00:00:00|                 0|                35|                     1|             null|                        1|                                 I|              S|              N|                 null|          KHE|             N|           1|           20|     GIPUZKOA|                      0|              null|03 - UNIVERSITARIO|              0|         0|               1|               0|              0|             0|                     0|                 0|                      0|                  0|                   0|                 0|        0|    0|       0|            0|    0|    0|          0|         0|           0|      0|           0|           0|\n",
            "|2015-01-28 00:00:00|    1050620.0|             N|               ES|  H| 23|2012-08-10 00:00:00|                 0|                35|                     1|             null|                        1|                                 I|              S|              N|                 null|          KHE|             N|           1|           10|      CACERES|                      0|         113194.98|03 - UNIVERSITARIO|              0|         0|               1|               0|              0|             0|                     0|                 0|                      0|                  0|                   0|                 0|        0|    0|       0|            0|    0|    0|          0|         0|           0|      0|           0|           0|\n",
            "|2015-01-28 00:00:00|    1050621.0|             N|               ES|  V| 23|2012-08-10 00:00:00|                 0|                35|                     1|             null|                        1|                                 I|              S|              N|                 null|          KHE|             N|           1|           50|     ZARAGOZA|                      0|          72575.88|03 - UNIVERSITARIO|              0|         0|               1|               0|              0|             0|                     0|                 0|                      0|                  0|                   0|                 0|        0|    0|       0|            0|    0|    0|          0|         0|           0|      0|           0|           0|\n",
            "|2015-01-28 00:00:00|    1050622.0|             N|               ES|  H| 23|2012-08-10 00:00:00|                 0|                35|                     1|             null|                        1|                                 I|              S|              N|                 null|          KHE|             N|           1|           17|       GIRONA|                      0|              null|03 - UNIVERSITARIO|              0|         0|               1|               0|              0|             0|                     0|                 0|                      0|                  0|                   0|                 0|        0|    0|       0|            0|    0|    0|          0|         0|           0|      0|           0|           0|\n",
            "|2015-01-28 00:00:00|    1050623.0|             N|               ES|  H| 23|2012-08-10 00:00:00|                 0|                35|                     1|             null|                        1|                                 A|              S|              N|                 null|          KHE|             N|           1|           49|       ZAMORA|                      1|         113538.81|03 - UNIVERSITARIO|              0|         0|               1|               0|              0|             0|                     0|                 0|                      0|                  0|                   0|                 0|        0|    0|       0|            0|    0|    0|          0|         0|           0|      0|           0|           0|\n",
            "|2015-01-28 00:00:00|    1050624.0|             N|               ES|  H| 65|2012-08-10 00:00:00|                 0|                35|                     1|             null|                        1|                                 A|              S|              N|                 null|          KHE|             N|           1|           50|     ZARAGOZA|                      1|          61605.09| 02 - PARTICULARES|              0|         0|               1|               0|              0|             0|                     0|                 0|                      0|                  0|                   0|                 0|        0|    0|       0|            0|    0|    0|          0|         0|           0|      0|           0|           0|\n",
            "|2015-01-28 00:00:00|    1050625.0|             N|               ES|  V| 23|2012-08-10 00:00:00|                 0|                35|                     1|             null|                        1|                                 A|              S|              N|                 null|          KHE|             N|           1|           49|       ZAMORA|                      1|              null|03 - UNIVERSITARIO|              0|         0|               1|               0|              0|             0|                     0|                 0|                      0|                  0|                   0|                 0|        0|    0|       0|            0|    0|    0|          0|         0|           0|      0|           0|           0|\n",
            "|2015-01-28 00:00:00|    1050626.0|             N|               ES|  V| 23|2012-08-10 00:00:00|                 0|                35|                     1|             null|                        1|                                 A|              S|              N|                 null|          KHE|             N|           1|            8|    BARCELONA|                      1|              null|03 - UNIVERSITARIO|              0|         0|               1|               0|              0|             0|                     0|                 0|                      0|                  0|                   0|                 0|        0|    0|       0|            0|    0|    0|          0|         0|           0|      0|           0|           0|\n",
            "|2015-01-28 00:00:00|    1050610.0|             N|               ES|  V| 24|2012-08-10 00:00:00|                 0|                35|                     1|             null|                        1|                                 I|              S|              N|                 null|          KHE|             N|           1|           37|    SALAMANCA|                      1| 68318.45999999999|03 - UNIVERSITARIO|              0|         0|               1|               0|              0|             0|                     0|                 0|                      0|                  0|                   0|                 0|        0|    0|       0|            0|    0|    0|          0|         0|           0|      0|           0|           0|\n",
            "|2015-01-28 00:00:00|    1050627.0|             N|               ES|  H| 23|2012-08-10 00:00:00|                 0|                35|                     1|             null|                        1|                                 I|              S|              N|                 null|          KHE|             N|           1|           13|  CIUDAD REAL|                      0|          65608.35|03 - UNIVERSITARIO|              0|         0|               1|               0|              0|             0|                     0|                 0|                      0|                  0|                   0|                 0|        0|    0|       0|            0|    0|    0|          0|         0|           0|      0|           0|           0|\n",
            "|2015-01-28 00:00:00|    1050609.0|             N|               ES|  H| 22|2012-08-10 00:00:00|                 0|                35|                     1|             null|                        1|                                 I|              S|              N|                 null|          KFA|             N|           1|           13|  CIUDAD REAL|                      1|          73432.47|03 - UNIVERSITARIO|              0|         0|               1|               0|              0|             0|                     0|                 0|                      0|                  0|                   0|                 0|        0|    0|       0|            0|    0|    0|          0|         0|           0|      0|           0|           0|\n",
            "|2015-01-28 00:00:00|    1050605.0|             N|               ES|  V| 23|2012-08-10 00:00:00|                 0|                35|                     1|             null|                        1|                                 I|              S|              N|                 null|          KHE|             N|           1|           45|       TOLEDO|                      0|              null|03 - UNIVERSITARIO|              0|         0|               1|               0|              0|             0|                     0|                 0|                      0|                  0|                   0|                 0|        0|    0|       0|            0|    0|    0|          0|         0|           0|      0|           0|           0|\n",
            "+-------------------+-------------+--------------+-----------------+---+---+-------------------+------------------+------------------+----------------------+-----------------+-------------------------+----------------------------------+---------------+---------------+---------------------+-------------+--------------+------------+-------------+-------------+-----------------------+------------------+------------------+---------------+----------+----------------+----------------+---------------+--------------+----------------------+------------------+-----------------------+-------------------+--------------------+------------------+---------+-----+--------+-------------+-----+-----+-----------+----------+------------+-------+------------+------------+\n",
            "only showing top 20 rows\n",
            "\n"
          ]
        }
      ]
    },
    {
      "cell_type": "code",
      "source": [
        "for old_col, new_col in column_mapping.items():\n",
        "    test_df = test_df.withColumnRenamed(old_col, new_col)\n",
        "test_df.show()"
      ],
      "metadata": {
        "id": "qqVv2VlxD3QB",
        "colab": {
          "base_uri": "https://localhost:8080/"
        },
        "outputId": "ca860da6-e55d-48c6-ecef-cf59506bb8d0"
      },
      "execution_count": null,
      "outputs": [
        {
          "output_type": "stream",
          "name": "stdout",
          "text": [
            "+-------------------+-------------+--------------+-----------------+---+----+-------------------+------------------+------------------+----------------------+-----------------+-------------------------+----------------------------------+---------------+---------------+---------------------+-------------+--------------+------------+-------------+--------------+-----------------------+----------------+------------------+\n",
            "|               date|customer_code|employee_index|country_residence|sex| age|first_contract_date|new_customer_index|customer_seniority|primary_customer_index|last_primary_date|customer_type_start_month|customer_relation_type_start_month|residence_index|foreigner_index|spouse_employee_index|entry_channel|deceased_index|address_type|province_code| province_name|customer_activity_index|household_income|  customer_segment|\n",
            "+-------------------+-------------+--------------+-----------------+---+----+-------------------+------------------+------------------+----------------------+-----------------+-------------------------+----------------------------------+---------------+---------------+---------------------+-------------+--------------+------------+-------------+--------------+-----------------------+----------------+------------------+\n",
            "|2016-06-28 00:00:00|      15889.0|             F|               ES|  V|56.0|1995-01-16 00:00:00|                 0|             256.0|                   1.0|             null|                      1.0|                                 A|              S|              N|                    N|          KAT|             N|           1|           28|        MADRID|                      1|       326124.90|          01 - TOP|\n",
            "|2016-06-28 00:00:00|    1170544.0|             N|               ES|  H|36.0|2013-08-28 00:00:00|                 0|              34.0|                   1.0|             null|                      1.0|                                 I|              S|              N|                 null|          KAT|             N|           1|            3|      ALICANTE|                      0|              NA| 02 - PARTICULARES|\n",
            "|2016-06-28 00:00:00|    1170545.0|             N|               ES|  V|22.0|2013-08-28 00:00:00|                 0|              34.0|                   1.0|             null|                      1.0|                                 A|              S|              N|                 null|          KHE|             N|           1|           15|     CORUÑA, A|                      1|              NA|03 - UNIVERSITARIO|\n",
            "|2016-06-28 00:00:00|    1170547.0|             N|               ES|  H|22.0|2013-08-28 00:00:00|                 0|              34.0|                   1.0|             null|                      1.0|                                 I|              S|              N|                 null|          KHE|             N|           1|            8|     BARCELONA|                      0|       148402.98|03 - UNIVERSITARIO|\n",
            "|2016-06-28 00:00:00|    1170548.0|             N|               ES|  H|22.0|2013-08-28 00:00:00|                 0|              34.0|                   1.0|             null|                      1.0|                                 I|              S|              N|                 null|          KHE|             N|           1|            7|BALEARS, ILLES|                      0|       106885.80|03 - UNIVERSITARIO|\n",
            "|2016-06-28 00:00:00|    1170550.0|             N|               ES|  V|22.0|2013-08-28 00:00:00|                 0|              34.0|                   1.0|             null|                      1.0|                                 I|              S|              N|                 null|          KHE|             N|           1|            8|     BARCELONA|                      0|              NA|03 - UNIVERSITARIO|\n",
            "|2016-06-28 00:00:00|    1170552.0|             N|               ES|  H|51.0|2013-08-28 00:00:00|                 0|              34.0|                   1.0|             null|                      1.0|                                 A|              S|              N|                 null|          KFC|             N|           1|           35|   PALMAS, LAS|                      1|        96395.88| 02 - PARTICULARES|\n",
            "|2016-06-28 00:00:00|    1170553.0|             N|               ES|  H|22.0|2013-08-28 00:00:00|                 0|              34.0|                   1.0|             null|                      1.0|                                 I|              S|              N|                 null|          KHE|             N|           1|           45|        TOLEDO|                      0|              NA|03 - UNIVERSITARIO|\n",
            "|2016-06-28 00:00:00|    1170555.0|             N|               ES|  V|22.0|2013-08-28 00:00:00|                 0|              34.0|                   1.0|             null|                      1.0|                                 I|              S|              N|                 null|          KHE|             N|           1|           28|        MADRID|                      0|              NA|03 - UNIVERSITARIO|\n",
            "|2016-06-28 00:00:00|    1170557.0|             N|               ES|  H|22.0|2013-08-28 00:00:00|                 0|              34.0|                   1.0|             null|                      1.0|                                 A|              S|              N|                 null|          KHE|             N|           1|           15|     CORUÑA, A|                      1|        68322.72|03 - UNIVERSITARIO|\n",
            "|2016-06-28 00:00:00|    1170559.0|             N|               ES|  H|22.0|2013-08-28 00:00:00|                 0|              34.0|                   1.0|             null|                      1.0|                                 I|              S|              N|                 null|          KHE|             N|           1|           14|       CORDOBA|                      0|        39327.87|03 - UNIVERSITARIO|\n",
            "|2016-06-28 00:00:00|    1170563.0|             N|               ES|  H|22.0|2013-08-28 00:00:00|                 0|              34.0|                   1.0|             null|                      1.0|                                 I|              S|              N|                 null|          KHE|             N|           1|           28|        MADRID|                      0|              NA|03 - UNIVERSITARIO|\n",
            "|2016-06-28 00:00:00|    1170542.0|             N|               ES|  H|22.0|2013-08-28 00:00:00|                 0|              34.0|                   1.0|             null|                      1.0|                                 I|              S|              N|                 null|          KHE|             N|           1|            8|     BARCELONA|                      0|       108397.08|03 - UNIVERSITARIO|\n",
            "|2016-06-28 00:00:00|    1170565.0|             N|               ES|  H|22.0|2013-08-28 00:00:00|                 0|              34.0|                   1.0|             null|                      1.0|                                 I|              S|              N|                 null|          KHE|             N|           1|           15|     CORUÑA, A|                      0|              NA|03 - UNIVERSITARIO|\n",
            "|2016-06-28 00:00:00|    1170568.0|             N|               ES|  H|22.0|2013-08-28 00:00:00|                 0|              34.0|                   1.0|             null|                      1.0|                                 I|              S|              N|                 null|          KHE|             N|           1|           30|        MURCIA|                      0|       124086.75|03 - UNIVERSITARIO|\n",
            "|2016-06-28 00:00:00|    1170570.0|             N|               ES|  H|22.0|2013-08-28 00:00:00|                 0|              34.0|                   1.0|             null|                      1.0|                                 A|              S|              N|                 null|          KHE|             N|           1|           28|        MADRID|                      1|       154306.95|03 - UNIVERSITARIO|\n",
            "|2016-06-28 00:00:00|    1170576.0|             N|               ES|  V|22.0|2013-08-28 00:00:00|                 0|              34.0|                   1.0|             null|                      1.0|                                 A|              S|              N|                 null|          KHE|             N|           1|           15|     CORUÑA, A|                      0|       109630.98|03 - UNIVERSITARIO|\n",
            "|2016-06-28 00:00:00|    1170578.0|             N|               ES|  V|41.0|2013-08-28 00:00:00|                 0|              34.0|                   1.0|             null|                      1.0|                                 I|              S|              N|                 null|          KAT|             N|           1|            8|     BARCELONA|                      0|        76589.91| 02 - PARTICULARES|\n",
            "|2016-06-28 00:00:00|    1170579.0|             N|               ES|  H|36.0|2013-08-28 00:00:00|                 0|              34.0|                   1.0|             null|                      1.0|                                 A|              S|              N|                 null|          KFC|             N|           1|           30|        MURCIA|                      1|        86862.48| 02 - PARTICULARES|\n",
            "|2016-06-28 00:00:00|    1170581.0|             N|               ES|  H|22.0|2013-08-28 00:00:00|                 0|              34.0|                   1.0|             null|                      1.0|                                 I|              S|              N|                 null|          KHE|             N|           1|           28|        MADRID|                      0|        35746.41|03 - UNIVERSITARIO|\n",
            "+-------------------+-------------+--------------+-----------------+---+----+-------------------+------------------+------------------+----------------------+-----------------+-------------------------+----------------------------------+---------------+---------------+---------------------+-------------+--------------+------------+-------------+--------------+-----------------------+----------------+------------------+\n",
            "only showing top 20 rows\n",
            "\n"
          ]
        }
      ]
    },
    {
      "cell_type": "code",
      "source": [],
      "metadata": {
        "id": "ut7eubML2wRk"
      },
      "execution_count": null,
      "outputs": []
    },
    {
      "cell_type": "code",
      "source": [
        "# Calculate null percentages for each column\n",
        "null_percentages = train_df.agg(*[(1 - (F.count(F.col(c)) / F.count('*'))) * 100 for c in train_df.columns])\n",
        "\n",
        "# # Rename the columns for clarity\n",
        "# null_percentages = null_percentages.select([F.col(c).alias(f\"{train_df.columns[i]}_null_percentage\") for i, c in enumerate(null_percentages.columns)])\n",
        "\n",
        "# Show the null percentages\n",
        "null_percentages.show()"
      ],
      "metadata": {
        "id": "EAJAMr6uMBY7"
      },
      "execution_count": null,
      "outputs": []
    },
    {
      "cell_type": "code",
      "source": [
        "train_df = train_df.drop(\"last_primary_date\", \"spouse_employee_index\")\n",
        "test_df = test_df.drop(\"last_primary_date\", \"spouse_employee_index\")"
      ],
      "metadata": {
        "id": "WQveTB-nNYbB"
      },
      "execution_count": null,
      "outputs": []
    },
    {
      "cell_type": "code",
      "source": [
        "print(\"Shape of train DataFrame: ({}, {})\".format(train_df.count(), len(train_df.columns)))\n",
        "print(\"Shape of test DataFrame: ({}, {})\".format(test_df.count(), len(test_df.columns)))"
      ],
      "metadata": {
        "id": "tCpKCY3SNhTP"
      },
      "execution_count": null,
      "outputs": []
    },
    {
      "cell_type": "code",
      "source": [],
      "metadata": {
        "id": "y30kFy-CRV6r"
      },
      "execution_count": null,
      "outputs": []
    },
    {
      "cell_type": "code",
      "source": [
        "sample_fraction = 0.1\n",
        "sampled_data = train_df.select('age').sample(fraction=sample_fraction).rdd.flatMap(lambda x: x).collect()\n",
        "\n",
        "# Plot histogram\n",
        "plt.hist(sampled_data, bins=30, color='skyblue', edgecolor='black')\n",
        "plt.xlabel('Values')\n",
        "plt.ylabel('Frequency')\n",
        "plt.title('Histogram of Age')\n",
        "plt.show()"
      ],
      "metadata": {
        "id": "-HJ3Jw2XPLHH"
      },
      "execution_count": null,
      "outputs": []
    },
    {
      "cell_type": "code",
      "source": [
        "\n",
        "sample_fraction = 0.1  # Adjust as needed\n",
        "\n",
        "sampled_data = train_df.select('household_income').dropna().sample(fraction=sample_fraction).rdd.flatMap(lambda x: x).collect()\n",
        "\n",
        "# Plot histogram\n",
        "plt.hist(sampled_data, bins=30, color='skyblue', edgecolor='black')\n",
        "plt.xlabel('Values')\n",
        "plt.ylabel('Frequency')\n",
        "plt.title('Histogram of household_income')\n",
        "plt.show()"
      ],
      "metadata": {
        "id": "VQWzjcUfSbdd"
      },
      "execution_count": null,
      "outputs": []
    },
    {
      "cell_type": "code",
      "source": [
        "\n",
        "\n",
        "def preprocess_data(df):\n",
        "    df_processed = df \\\n",
        "        .withColumn(\"date\", to_date(col(\"date\"), \"yyyy-MM-dd\")) \\\n",
        "        .withColumn(\"employee_index\", when(col(\"employee_index\") == \"A\", 1)\n",
        "                      .when(col(\"employee_index\") == \"B\", 2)\n",
        "                      .when(col(\"employee_index\") == \"F\", 3)\n",
        "                      .when(col(\"employee_index\") == \"N\", 4)\n",
        "                      .when(col(\"employee_index\") == \"S\", 5)\n",
        "                      .otherwise(col(\"employee_index\").cast(\"int\"))) \\\n",
        "        .withColumn(\"first_contract_date\", to_date(col(\"first_contract_date\"), \"yyyy-MM-dd\")) \\\n",
        "        .withColumn(\"customer_code\", col(\"customer_code\").cast(\"int\")) \\\n",
        "        .withColumn(\"new_customer_index\", col(\"new_customer_index\").cast(\"int\")) \\\n",
        "        .withColumn(\"primary_customer_index\", col(\"primary_customer_index\").cast(\"int\")) \\\n",
        "        .withColumn(\"address_type\", col(\"address_type\").cast(\"int\")) \\\n",
        "        .withColumn(\"province_code\", col(\"province_code\").cast(\"int\")) \\\n",
        "        .withColumn(\"customer_activity_index\", col(\"customer_activity_index\").cast(\"double\")) \\\n",
        "        .withColumn(\"customer_seniority\", col(\"customer_seniority\").cast(\"int\")) \\\n",
        "        .withColumn(\"deceased_index\", when(col(\"residence_index\") == \"S\", 1)\n",
        "                      .when(col(\"residence_index\") == \"N\", 0)\n",
        "                      .otherwise(None).cast(\"int\")) \\\n",
        "        .withColumn(\"foreigner_index\", when(col(\"residence_index\") == \"S\", 1)\n",
        "                      .when(col(\"residence_index\") == \"N\", 0)\n",
        "                      .otherwise(None).cast(\"int\")) \\\n",
        "        .withColumn(\"residence_index\", when(col(\"residence_index\") == \"S\", 1)\n",
        "                      .when(col(\"residence_index\") == \"N\", 0)\n",
        "                      .otherwise(None).cast(\"int\")) \\\n",
        "        .withColumn(\"household_income\", round(col(\"household_income\"), 2).cast(\"double\")) \\\n",
        "        .withColumn(\"customer_relation_type_start_month\", when(col(\"customer_relation_type_start_month\") == \"A\", 1)\n",
        "                      .when(col(\"customer_relation_type_start_month\") == \"I\", 2)\n",
        "                      .when(col(\"customer_relation_type_start_month\") == \"P\", 3)\n",
        "                      .when(col(\"customer_relation_type_start_month\") == \"R\", 4)\n",
        "                      .otherwise(col(\"customer_relation_type_start_month\").cast(\"int\"))) \\\n",
        "        .withColumn(\"age\", col(\"age\").cast(\"int\")) \\\n",
        "        .withColumn(\"customer_segment\", when(col(\"customer_segment\") == \"01 - TOP\", 1)\n",
        "                      .when(col(\"customer_segment\") == \"02 - PARTICULARES\", 2)\n",
        "                      .when(col(\"customer_segment\") == \"03 - UNIVERSITARIO\", 3)\n",
        "                      .otherwise(col(\"customer_segment\").cast(\"int\"))) \\\n",
        "        .withColumn(\"customer_type_start_month\", when(col(\"customer_type_start_month\").isin(\"1\", \"1.0\"), 1)\n",
        "                      .when(col(\"customer_type_start_month\").isin(\"2\", \"2.0\"), 2)\n",
        "                      .when(col(\"customer_type_start_month\").isin(\"3\", \"3.0\"), 3)\n",
        "                      .when(col(\"customer_type_start_month\").isin(\"4\", \"4.0\"), 4)\n",
        "                      .otherwise(col(\"customer_type_start_month\").cast(\"int\"))) \\\n",
        "        .filter(col(\"customer_seniority\") >= 0) \\\n",
        "        .filter((col(\"age\") >= 1) & (col(\"age\") <= 100))\n",
        "\n",
        "    return df_processed\n"
      ],
      "metadata": {
        "id": "3FUfYUWtU4w-"
      },
      "execution_count": null,
      "outputs": []
    },
    {
      "cell_type": "code",
      "source": [
        "historical_data = train_df.filter(col(\"date\") <= \"2016-04-28\")\n",
        "intermediate_data_0528 = train_df.filter(col(\"date\") == \"2016-05-28\")"
      ],
      "metadata": {
        "id": "pnFgDnjZbBqg"
      },
      "execution_count": null,
      "outputs": []
    },
    {
      "cell_type": "code",
      "source": [
        "historical_data = preprocess_data(historical_data)\n",
        "intermediate_data_0528 = preprocess_data(intermediate_data_0528)"
      ],
      "metadata": {
        "id": "vNO252SDbO7M"
      },
      "execution_count": null,
      "outputs": []
    },
    {
      "cell_type": "code",
      "source": [
        "historical_data = historical_data.withColumn(\"payroll\", col(\"payroll\").cast(\"int\")) \\\n",
        "                                .withColumn(\"pensions_nom\", col(\"pensions_nom\").cast(\"int\"))\n",
        "\n",
        "intermediate_data_0528 = intermediate_data_0528.withColumn(\"payroll\", col(\"payroll\").cast(\"int\")) \\\n",
        "                                .withColumn(\"pensions_nom\", col(\"pensions_nom\").cast(\"int\"))"
      ],
      "metadata": {
        "id": "9TtP2PaYbWKZ"
      },
      "execution_count": null,
      "outputs": []
    },
    {
      "cell_type": "code",
      "source": [
        "test_data = preprocess_data(test_df)"
      ],
      "metadata": {
        "id": "duKwTIZ-JNhr"
      },
      "execution_count": null,
      "outputs": []
    },
    {
      "cell_type": "code",
      "source": [],
      "metadata": {
        "id": "rN3vK45nb9E9"
      },
      "execution_count": null,
      "outputs": []
    },
    {
      "cell_type": "code",
      "source": [
        "# Calculate the median age, household\n",
        "median_age = historical_data.select(percentile_approx(\"age\", 0.5).alias(\"median_age\")).collect()[0][0]\n",
        "median_household_income = historical_data.select(percentile_approx(\"household_income\", 0.5).alias(\"median_household_income\")).collect()[0][0]\n",
        "\n",
        "print(median_age)\n",
        "print(median_household_income)\n"
      ],
      "metadata": {
        "id": "1rSlchgHbsVX",
        "colab": {
          "base_uri": "https://localhost:8080/"
        },
        "outputId": "14accb48-ae62-49b0-baa3-5f897efd04c4"
      },
      "execution_count": null,
      "outputs": [
        {
          "output_type": "stream",
          "name": "stdout",
          "text": [
            "39\n",
            "101844.57\n"
          ]
        }
      ]
    },
    {
      "cell_type": "code",
      "source": [
        "def impute_data(df, median_age, median_household_income):\n",
        "    df_imputed = df.withColumn(\"age\", when(col(\"age\").isNull(), median_age).otherwise(col(\"age\"))) \\\n",
        "                   .withColumn(\"household_income\", when(col(\"household_income\").isNull(), median_household_income).otherwise(col(\"household_income\")))\n",
        "\n",
        "    return df_imputed"
      ],
      "metadata": {
        "id": "ndMA0vmmccE4"
      },
      "execution_count": null,
      "outputs": []
    },
    {
      "cell_type": "code",
      "source": [
        "# Data imputation with median data\n",
        "\n",
        "historical_data = impute_data(historical_data, median_age, median_household_income)\n",
        "intermediate_data_0528 = impute_data(intermediate_data_0528, median_age, median_household_income)\n",
        "test_data = impute_data(test_data, median_age, median_household_income)"
      ],
      "metadata": {
        "id": "56WDG-Npc-1M"
      },
      "execution_count": null,
      "outputs": []
    },
    {
      "cell_type": "code",
      "source": [],
      "metadata": {
        "id": "d4r4gpSgcvOM"
      },
      "execution_count": null,
      "outputs": []
    },
    {
      "cell_type": "code",
      "source": [],
      "metadata": {
        "id": "YHbancTUYjb9"
      },
      "execution_count": null,
      "outputs": []
    },
    {
      "cell_type": "code",
      "source": [
        "from pyspark.sql.functions import when, col\n",
        "\n",
        "def create_age_groups_and_weighted_activity(df, age_column=\"age\"):\n",
        "    age_groups = {\"young\": (0, 25), \"adult\": (26, 40), \"middle-aged\": (41, 60), \"senior\": (61, 100)}\n",
        "\n",
        "    df_with_age_groups_and_weighted_activity = df.withColumn(\"age_group\",\n",
        "                                      when((col(age_column) >= age_groups[\"young\"][0]) & (col(age_column) <= age_groups[\"young\"][1]), \"young\")\n",
        "                                      .when((col(age_column) >= age_groups[\"adult\"][0]) & (col(age_column) <= age_groups[\"adult\"][1]), \"adult\")\n",
        "                                      .when((col(age_column) >= age_groups[\"middle-aged\"][0]) & (col(age_column) <= age_groups[\"middle-aged\"][1]), \"middle-aged\")\n",
        "                                      .when(col(age_column) >= age_groups[\"senior\"][0], \"senior\")\n",
        "                                      .otherwise(\"unknown\")) \\\n",
        "                                      .withColumn(\"activity_index_weighted\", col(\"customer_activity_index\") * col(\"customer_seniority\"))\n",
        "\n",
        "    return df_with_age_groups_and_weighted_activity\n",
        "\n",
        "\n",
        "historical_data_processed = create_age_groups_and_weighted_activity(historical_data, age_column=\"age\")\n",
        "intermediate_data_0528_processed = create_age_groups_and_weighted_activity(intermediate_data_0528, age_column=\"age\")\n",
        "test_data_processed = create_age_groups_and_weighted_activity(test_data, age_column=\"age\")\n"
      ],
      "metadata": {
        "id": "Kljj5TjJePMI"
      },
      "execution_count": null,
      "outputs": []
    },
    {
      "cell_type": "code",
      "source": [
        "intermediate_data_0528_processed"
      ],
      "metadata": {
        "id": "h6-1eJCBza-T"
      },
      "execution_count": null,
      "outputs": []
    },
    {
      "cell_type": "code",
      "source": [
        "test_data.show()"
      ],
      "metadata": {
        "id": "j6acvjInNHtG"
      },
      "execution_count": null,
      "outputs": []
    },
    {
      "cell_type": "code",
      "source": [
        "from pyspark.sql.functions import count\n",
        "\n",
        "train_data.groupBy(\"activity_index_weighted\").agg(count(\"*\").alias(\"count\")).show()"
      ],
      "metadata": {
        "id": "p0EvU5vdS4r1"
      },
      "execution_count": null,
      "outputs": []
    },
    {
      "cell_type": "markdown",
      "source": [],
      "metadata": {
        "id": "IDORsij1tVR7"
      }
    },
    {
      "cell_type": "code",
      "source": [
        "train_data.groupBy(\"date\").agg(count(\"*\").alias(\"count\")).show()"
      ],
      "metadata": {
        "id": "_a_a26KZsoWK"
      },
      "execution_count": null,
      "outputs": []
    },
    {
      "cell_type": "code",
      "source": [
        "train_data.groupBy(\"first_contract_date\").agg(count(\"*\").alias(\"count\")).show()"
      ],
      "metadata": {
        "id": "fibGe39nwKTS"
      },
      "execution_count": null,
      "outputs": []
    },
    {
      "cell_type": "code",
      "source": [
        "train_data.columns"
      ],
      "metadata": {
        "id": "1U8kbIDkBbmQ"
      },
      "execution_count": null,
      "outputs": []
    },
    {
      "cell_type": "code",
      "source": [
        "from pyspark.sql import SparkSession\n",
        "from pyspark.sql.functions import col\n",
        "import matplotlib.pyplot as plt\n",
        "\n",
        "# Select relevant demographic columns\n",
        "demographic_cols = [\n",
        "    \"sex\",\n",
        "    \"age\",\n",
        "    \"country_residence\",\n",
        "    \"new_customer_index\",\n",
        "    \"customer_seniority\"\n",
        "]\n",
        "demographics_df = train_data.select(demographic_cols)\n",
        "\n",
        "# Summary statistics for numerical columns\n",
        "demographics_df.describe(\"age\", \"customer_seniority\").show()\n",
        "\n",
        "# # Distribution of sex\n",
        "# sex_distribution = demographics_df.groupBy(\"sex\").count().collect()\n",
        "# sex_labels = [row[\"sex\"] for row in sex_distribution]\n",
        "# sex_counts = [row[\"count\"] for row in sex_distribution]\n",
        "# plt.bar(sex_labels, sex_counts)\n",
        "# plt.title(\"Distribution of Sex\")\n",
        "# plt.xlabel(\"Sex\")\n",
        "# plt.ylabel(\"Count\")\n",
        "# plt.show()\n",
        "\n",
        "# Distribution of age\n",
        "age_distribution = demographics_df.groupBy(\"age\").count().orderBy(\"age\").collect()\n",
        "age_values = [row[\"age\"] for row in age_distribution]\n",
        "age_counts = [row[\"count\"] for row in age_distribution]\n",
        "plt.plot(age_values, age_counts)\n",
        "plt.title(\"Distribution of Age\")\n",
        "plt.xlabel(\"Age\")\n",
        "plt.ylabel(\"Count\")\n",
        "plt.show()\n",
        "\n",
        "# # Distribution of country residence\n",
        "# country_distribution = demographics_df.groupBy(\"country_residence\").count().collect()\n",
        "# country_labels = [row[\"country_residence\"] for row in country_distribution]\n",
        "# country_counts = [row[\"count\"] for row in country_distribution]\n",
        "# plt.bar(country_labels, country_counts)\n",
        "# plt.title(\"Distribution of Country Residence\")\n",
        "# plt.xlabel(\"Country Residence\")\n",
        "# plt.ylabel(\"Count\")\n",
        "# plt.xticks(rotation=45)\n",
        "# plt.show()\n",
        "\n",
        "# Distribution of new customer index\n",
        "new_customer_distribution = demographics_df.groupBy(\"new_customer_index\").count().collect()\n",
        "new_customer_labels = [row[\"new_customer_index\"] for row in new_customer_distribution]\n",
        "new_customer_counts = [row[\"count\"] for row in new_customer_distribution]\n",
        "plt.bar(new_customer_labels, new_customer_counts)\n",
        "plt.title(\"Distribution of New Customer Index\")\n",
        "plt.xlabel(\"New Customer Index\")\n",
        "plt.ylabel(\"Count\")\n",
        "plt.show()\n",
        "\n",
        "# Distribution of customer seniority\n",
        "customer_seniority_distribution = demographics_df.groupBy(\"customer_seniority\").count().orderBy(\"customer_seniority\").collect()\n",
        "seniority_values = [row[\"customer_seniority\"] for row in customer_seniority_distribution]\n",
        "seniority_counts = [row[\"count\"] for row in customer_seniority_distribution]\n",
        "plt.plot(seniority_values, seniority_counts)\n",
        "plt.title(\"Distribution of Customer Seniority\")\n",
        "plt.xlabel(\"Customer Seniority\")\n",
        "plt.ylabel(\"Count\")\n",
        "plt.show()\n"
      ],
      "metadata": {
        "id": "TdFzFQwCDkxb"
      },
      "execution_count": null,
      "outputs": []
    },
    {
      "cell_type": "code",
      "source": [
        "from pyspark.sql import SparkSession\n",
        "from pyspark.ml.feature import StringIndexer, OneHotEncoder, VectorAssembler\n",
        "from pyspark.ml import Pipeline"
      ],
      "metadata": {
        "id": "YeTZMqg-1L35"
      },
      "execution_count": null,
      "outputs": []
    },
    {
      "cell_type": "code",
      "source": [],
      "metadata": {
        "id": "miB-o7j9gved"
      },
      "execution_count": null,
      "outputs": []
    },
    {
      "cell_type": "code",
      "source": [
        "from pyspark.sql import SparkSession\n",
        "from pyspark.sql.functions import concat_ws\n",
        "from pyspark.ml.feature import StringIndexer, OneHotEncoder, VectorAssembler\n",
        "from pyspark.ml import Pipeline\n",
        "from pyspark.ml.classification import RandomForestClassifier\n",
        "from pyspark.sql.functions import col, when"
      ],
      "metadata": {
        "id": "ZfspLiTDatjK"
      },
      "execution_count": null,
      "outputs": []
    },
    {
      "cell_type": "code",
      "source": [
        "# Define the product columns\n",
        "product_columns = [\n",
        "    \"savings_account\", \"guarantees\", \"current_accounts\", \"derivada_account\", \"payroll_account\",\n",
        "    \"junior_account\", \"mas_particular_account\", \"particular_account\", \"particular_plus_account\",\n",
        "    \"short_term_deposits\", \"medium_term_deposits\", \"long_term_deposits\", \"e_account\", \"funds\",\n",
        "    \"mortgage\", \"loans\", \"taxes\", \"credit_card\", \"securities\", \"home_account\", \"payroll\",\n",
        "    \"pensions_nom\", \"pension_plans\", \"direct_debit\"\n",
        "]\n",
        "\n",
        "# Create function to process training data\n",
        "def process_train_data(df):\n",
        "    for col_name in product_columns:\n",
        "        df = df.withColumn(col_name, when(col(col_name).isNull(), 0).otherwise(col(col_name)))\n",
        "    df = df.withColumn(\"multi_label\", concat_ws('_', *product_columns))\n",
        "    return df\n",
        "\n",
        "# Create function to process test data\n",
        "def process_test_data(df):\n",
        "    # No need to handle product columns for test data\n",
        "    return df\n",
        "\n",
        "# Define the feature engineering steps\n",
        "def create_feature_pipeline():\n",
        "    categorical_cols = [\n",
        "        \"employee_index\", \"country_residence\", \"sex\", \"new_customer_index\",\n",
        "        \"primary_customer_index\", \"province_code\", \"customer_type_start_month\",\n",
        "        \"customer_relation_type_start_month\", \"residence_index\", \"foreigner_index\",\n",
        "        \"deceased_index\", \"customer_activity_index\", \"customer_segment\",\n",
        "        \"age_group\", \"activity_index_weighted\"\n",
        "    ]\n",
        "\n",
        "    string_indexers = [StringIndexer(inputCol=col, outputCol=col + \"_index\", handleInvalid='keep') for col in categorical_cols]\n",
        "    one_hot_encoders = [OneHotEncoder(inputCol=indexer.getOutputCol(), outputCol=col + \"_encoded\") for indexer, col in zip(string_indexers, categorical_cols)]\n",
        "    encoded_columns = [col + \"_encoded\" for col in categorical_cols]\n",
        "    feature_assembler = VectorAssembler(inputCols=encoded_columns, outputCol=\"features\")\n",
        "\n",
        "    return Pipeline(stages=string_indexers + one_hot_encoders + [feature_assembler])"
      ],
      "metadata": {
        "id": "wKrIgrFwf0Ge"
      },
      "execution_count": null,
      "outputs": []
    },
    {
      "cell_type": "code",
      "source": [
        "historical_data = process_train_data(historical_data_processed)\n",
        "intermediate_data_0528 = process_train_data(intermediate_data_0528_processed)\n",
        "test_data = process_test_data(test_data_processed)"
      ],
      "metadata": {
        "id": "zVXdmxoxizVn"
      },
      "execution_count": null,
      "outputs": []
    },
    {
      "cell_type": "code",
      "source": [
        "# Create and fit the feature pipeline\n",
        "feature_pipeline = create_feature_pipeline()\n",
        "fitted_pipeline = feature_pipeline.fit(historical_data)"
      ],
      "metadata": {
        "id": "K_D6gCHUi79h"
      },
      "execution_count": null,
      "outputs": []
    },
    {
      "cell_type": "code",
      "source": [
        "# Transform all datasets\n",
        "transformed_historical_data = fitted_pipeline.transform(historical_data)\n",
        "transformed_intermediate_data_0528 = fitted_pipeline.transform(intermediate_data_0528)\n",
        "transformed_test_data = fitted_pipeline.transform(test_data)"
      ],
      "metadata": {
        "id": "jWvcZGcAkv5f"
      },
      "execution_count": null,
      "outputs": []
    },
    {
      "cell_type": "code",
      "source": [
        "# Create a single target column by concatenating all product columns for training data\n",
        "train_data = transformed_historical_data.withColumn(\"multi_label\", concat_ws('_', *product_columns))\n",
        "\n",
        "# Index the target column to convert string labels to numeric indices\n",
        "target_indexer = StringIndexer(inputCol=\"multi_label\", outputCol=\"label\").fit(train_data)\n",
        "train_data = target_indexer.transform(train_data)"
      ],
      "metadata": {
        "id": "kWZZZGlekWT4"
      },
      "execution_count": null,
      "outputs": []
    },
    {
      "cell_type": "code",
      "source": [
        "# Show transformed data for verification\n",
        "train_data.select(\"label\", \"features\").show(truncate=False)\n",
        "transformed_intermediate_data_0528.select(\"features\").show(truncate=False)\n",
        "transformed_test_data.select(\"features\").show(truncate=False)"
      ],
      "metadata": {
        "colab": {
          "base_uri": "https://localhost:8080/"
        },
        "id": "BJl91UpRk0Wq",
        "outputId": "1aab981e-4ae4-4474-f312-e33c22ad0133"
      },
      "execution_count": null,
      "outputs": [
        {
          "output_type": "stream",
          "name": "stdout",
          "text": [
            "+-----+-----------------------------------------------------------------------------------------------------------------------------+\n",
            "|label|features                                                                                                                     |\n",
            "+-----+-----------------------------------------------------------------------------------------------------------------------------+\n",
            "|0.0  |(460,[0,5,124,125,127,135,181,186,189,191,193,196,197,202,219],[1.0,1.0,1.0,1.0,1.0,1.0,1.0,1.0,1.0,1.0,1.0,1.0,1.0,1.0,1.0])|\n",
            "|0.0  |(460,[0,5,123,125,127,153,181,185,189,191,193,195,198,201,204],[1.0,1.0,1.0,1.0,1.0,1.0,1.0,1.0,1.0,1.0,1.0,1.0,1.0,1.0,1.0])|\n",
            "|0.0  |(460,[0,5,123,125,127,153,181,185,189,191,193,195,198,201,204],[1.0,1.0,1.0,1.0,1.0,1.0,1.0,1.0,1.0,1.0,1.0,1.0,1.0,1.0,1.0])|\n",
            "|81.0 |(460,[0,5,124,125,127,136,181,185,189,191,193,195,198,201,204],[1.0,1.0,1.0,1.0,1.0,1.0,1.0,1.0,1.0,1.0,1.0,1.0,1.0,1.0,1.0])|\n",
            "|0.0  |(460,[0,5,123,125,127,136,181,186,189,191,193,196,198,201,221],[1.0,1.0,1.0,1.0,1.0,1.0,1.0,1.0,1.0,1.0,1.0,1.0,1.0,1.0,1.0])|\n",
            "|0.0  |(460,[0,5,124,125,127,145,181,185,189,191,193,195,198,201,204],[1.0,1.0,1.0,1.0,1.0,1.0,1.0,1.0,1.0,1.0,1.0,1.0,1.0,1.0,1.0])|\n",
            "|0.0  |(460,[0,5,124,125,127,163,181,185,189,191,193,195,198,201,204],[1.0,1.0,1.0,1.0,1.0,1.0,1.0,1.0,1.0,1.0,1.0,1.0,1.0,1.0,1.0])|\n",
            "|0.0  |(460,[0,5,124,125,127,136,181,186,189,191,193,196,198,201,221],[1.0,1.0,1.0,1.0,1.0,1.0,1.0,1.0,1.0,1.0,1.0,1.0,1.0,1.0,1.0])|\n",
            "|0.0  |(460,[0,5,124,125,127,165,181,185,189,191,193,195,198,201,204],[1.0,1.0,1.0,1.0,1.0,1.0,1.0,1.0,1.0,1.0,1.0,1.0,1.0,1.0,1.0])|\n",
            "|0.0  |(460,[0,5,124,125,127,150,181,185,189,191,193,195,198,201,204],[1.0,1.0,1.0,1.0,1.0,1.0,1.0,1.0,1.0,1.0,1.0,1.0,1.0,1.0,1.0])|\n",
            "|0.0  |(460,[0,5,123,125,127,136,181,185,189,191,193,195,198,201,204],[1.0,1.0,1.0,1.0,1.0,1.0,1.0,1.0,1.0,1.0,1.0,1.0,1.0,1.0,1.0])|\n",
            "|0.0  |(460,[0,5,124,125,127,158,181,185,189,191,193,195,198,201,204],[1.0,1.0,1.0,1.0,1.0,1.0,1.0,1.0,1.0,1.0,1.0,1.0,1.0,1.0,1.0])|\n",
            "|0.0  |(460,[0,5,124,125,127,171,181,186,189,191,193,196,198,201,221],[1.0,1.0,1.0,1.0,1.0,1.0,1.0,1.0,1.0,1.0,1.0,1.0,1.0,1.0,1.0])|\n",
            "|0.0  |(460,[0,5,124,125,127,136,181,186,189,191,193,196,197,203,221],[1.0,1.0,1.0,1.0,1.0,1.0,1.0,1.0,1.0,1.0,1.0,1.0,1.0,1.0,1.0])|\n",
            "|0.0  |(460,[0,5,123,125,127,171,181,186,189,191,193,196,198,201,221],[1.0,1.0,1.0,1.0,1.0,1.0,1.0,1.0,1.0,1.0,1.0,1.0,1.0,1.0,1.0])|\n",
            "|0.0  |(460,[0,5,123,125,127,130,181,186,189,191,193,196,198,201,221],[1.0,1.0,1.0,1.0,1.0,1.0,1.0,1.0,1.0,1.0,1.0,1.0,1.0,1.0,1.0])|\n",
            "|0.0  |(460,[0,5,123,125,127,147,181,185,189,191,193,196,198,201,221],[1.0,1.0,1.0,1.0,1.0,1.0,1.0,1.0,1.0,1.0,1.0,1.0,1.0,1.0,1.0])|\n",
            "|0.0  |(460,[0,5,124,125,127,153,181,185,189,191,193,195,198,201,204],[1.0,1.0,1.0,1.0,1.0,1.0,1.0,1.0,1.0,1.0,1.0,1.0,1.0,1.0,1.0])|\n",
            "|0.0  |(460,[0,5,124,125,127,153,181,185,189,191,193,196,198,201,221],[1.0,1.0,1.0,1.0,1.0,1.0,1.0,1.0,1.0,1.0,1.0,1.0,1.0,1.0,1.0])|\n",
            "|0.0  |(460,[0,5,123,125,127,145,181,185,189,191,193,195,198,201,204],[1.0,1.0,1.0,1.0,1.0,1.0,1.0,1.0,1.0,1.0,1.0,1.0,1.0,1.0,1.0])|\n",
            "+-----+-----------------------------------------------------------------------------------------------------------------------------+\n",
            "only showing top 20 rows\n",
            "\n",
            "+-----------------------------------------------------------------------------------------------------------------------------+\n",
            "|features                                                                                                                     |\n",
            "+-----------------------------------------------------------------------------------------------------------------------------+\n",
            "|(460,[0,5,124,125,127,129,181,185,189,191,193,195,197,203,204],[1.0,1.0,1.0,1.0,1.0,1.0,1.0,1.0,1.0,1.0,1.0,1.0,1.0,1.0,1.0])|\n",
            "|(460,[0,5,124,125,127,129,181,186,189,191,193,196,197,200,296],[1.0,1.0,1.0,1.0,1.0,1.0,1.0,1.0,1.0,1.0,1.0,1.0,1.0,1.0,1.0])|\n",
            "|(460,[0,5,123,125,127,161,181,186,189,191,193,196,197,200,296],[1.0,1.0,1.0,1.0,1.0,1.0,1.0,1.0,1.0,1.0,1.0,1.0,1.0,1.0,1.0])|\n",
            "|(460,[0,5,123,125,127,144,181,186,189,191,193,196,197,200,296],[1.0,1.0,1.0,1.0,1.0,1.0,1.0,1.0,1.0,1.0,1.0,1.0,1.0,1.0,1.0])|\n",
            "|(460,[0,5,124,125,127,130,181,186,189,191,193,196,199,200,296],[1.0,1.0,1.0,1.0,1.0,1.0,1.0,1.0,1.0,1.0,1.0,1.0,1.0,1.0,1.0])|\n",
            "|(460,[0,5,124,125,127,144,181,185,189,191,193,195,197,202,204],[1.0,1.0,1.0,1.0,1.0,1.0,1.0,1.0,1.0,1.0,1.0,1.0,1.0,1.0,1.0])|\n",
            "|(460,[0,5,123,125,127,129,181,186,189,191,193,196,199,202,399],[1.0,1.0,1.0,1.0,1.0,1.0,1.0,1.0,1.0,1.0,1.0,1.0,1.0,1.0,1.0])|\n",
            "|(460,[0,5,123,125,127,129,181,185,189,191,193,195,197,200,204],[1.0,1.0,1.0,1.0,1.0,1.0,1.0,1.0,1.0,1.0,1.0,1.0,1.0,1.0,1.0])|\n",
            "|(460,[0,5,123,125,127,129,181,185,189,191,193,195,197,200,204],[1.0,1.0,1.0,1.0,1.0,1.0,1.0,1.0,1.0,1.0,1.0,1.0,1.0,1.0,1.0])|\n",
            "|(460,[0,5,123,125,127,129,181,185,189,191,193,195,197,202,204],[1.0,1.0,1.0,1.0,1.0,1.0,1.0,1.0,1.0,1.0,1.0,1.0,1.0,1.0,1.0])|\n",
            "|(460,[0,5,123,125,127,129,181,186,189,191,193,196,199,203,296],[1.0,1.0,1.0,1.0,1.0,1.0,1.0,1.0,1.0,1.0,1.0,1.0,1.0,1.0,1.0])|\n",
            "|(460,[0,5,123,125,127,129,181,185,189,191,193,195,197,202,204],[1.0,1.0,1.0,1.0,1.0,1.0,1.0,1.0,1.0,1.0,1.0,1.0,1.0,1.0,1.0])|\n",
            "|(460,[0,5,123,125,127,130,181,186,189,191,193,196,197,202,296],[1.0,1.0,1.0,1.0,1.0,1.0,1.0,1.0,1.0,1.0,1.0,1.0,1.0,1.0,1.0])|\n",
            "|(460,[0,5,124,125,127,130,181,185,189,191,193,195,197,202,204],[1.0,1.0,1.0,1.0,1.0,1.0,1.0,1.0,1.0,1.0,1.0,1.0,1.0,1.0,1.0])|\n",
            "|(460,[0,5,124,125,127,129,181,185,189,191,193,195,197,200,204],[1.0,1.0,1.0,1.0,1.0,1.0,1.0,1.0,1.0,1.0,1.0,1.0,1.0,1.0,1.0])|\n",
            "|(460,[0,5,124,125,127,129,181,185,189,191,193,195,197,200,204],[1.0,1.0,1.0,1.0,1.0,1.0,1.0,1.0,1.0,1.0,1.0,1.0,1.0,1.0,1.0])|\n",
            "|(460,[0,5,123,125,127,144,181,186,189,191,193,196,197,202,296],[1.0,1.0,1.0,1.0,1.0,1.0,1.0,1.0,1.0,1.0,1.0,1.0,1.0,1.0,1.0])|\n",
            "|(460,[0,5,123,125,127,136,181,186,189,191,193,195,197,203,204],[1.0,1.0,1.0,1.0,1.0,1.0,1.0,1.0,1.0,1.0,1.0,1.0,1.0,1.0,1.0])|\n",
            "|(460,[0,5,124,125,127,132,181,185,189,191,193,195,197,200,204],[1.0,1.0,1.0,1.0,1.0,1.0,1.0,1.0,1.0,1.0,1.0,1.0,1.0,1.0,1.0])|\n",
            "|(460,[0,5,124,125,127,142,181,186,189,191,193,196,197,202,296],[1.0,1.0,1.0,1.0,1.0,1.0,1.0,1.0,1.0,1.0,1.0,1.0,1.0,1.0,1.0])|\n",
            "+-----------------------------------------------------------------------------------------------------------------------------+\n",
            "only showing top 20 rows\n",
            "\n",
            "+-----------------------------------------------------------------------------------------------------------------------------+\n",
            "|features                                                                                                                     |\n",
            "+-----------------------------------------------------------------------------------------------------------------------------+\n",
            "|(460,[2,5,123,125,127,129,181,186,189,191,193,196,199,200],[1.0,1.0,1.0,1.0,1.0,1.0,1.0,1.0,1.0,1.0,1.0,1.0,1.0,1.0])        |\n",
            "|(460,[0,5,124,125,127,137,181,185,189,191,193,195,197,202,204],[1.0,1.0,1.0,1.0,1.0,1.0,1.0,1.0,1.0,1.0,1.0,1.0,1.0,1.0,1.0])|\n",
            "|(460,[0,5,123,125,127,133,181,186,189,191,193,196,198,201,233],[1.0,1.0,1.0,1.0,1.0,1.0,1.0,1.0,1.0,1.0,1.0,1.0,1.0,1.0,1.0])|\n",
            "|(460,[0,5,124,125,127,130,181,185,189,191,193,195,198,201,204],[1.0,1.0,1.0,1.0,1.0,1.0,1.0,1.0,1.0,1.0,1.0,1.0,1.0,1.0,1.0])|\n",
            "|(460,[0,5,124,125,127,151,181,185,189,191,193,195,198,201,204],[1.0,1.0,1.0,1.0,1.0,1.0,1.0,1.0,1.0,1.0,1.0,1.0,1.0,1.0,1.0])|\n",
            "|(460,[0,5,123,125,127,130,181,185,189,191,193,195,198,201,204],[1.0,1.0,1.0,1.0,1.0,1.0,1.0,1.0,1.0,1.0,1.0,1.0,1.0,1.0,1.0])|\n",
            "|(460,[0,5,124,125,127,142,181,186,189,191,193,196,197,200,233],[1.0,1.0,1.0,1.0,1.0,1.0,1.0,1.0,1.0,1.0,1.0,1.0,1.0,1.0,1.0])|\n",
            "|(460,[0,5,124,125,127,145,181,185,189,191,193,195,198,201,204],[1.0,1.0,1.0,1.0,1.0,1.0,1.0,1.0,1.0,1.0,1.0,1.0,1.0,1.0,1.0])|\n",
            "|(460,[0,5,123,125,127,129,181,185,189,191,193,195,198,201,204],[1.0,1.0,1.0,1.0,1.0,1.0,1.0,1.0,1.0,1.0,1.0,1.0,1.0,1.0,1.0])|\n",
            "|(460,[0,5,124,125,127,133,181,186,189,191,193,196,198,201,233],[1.0,1.0,1.0,1.0,1.0,1.0,1.0,1.0,1.0,1.0,1.0,1.0,1.0,1.0,1.0])|\n",
            "|(460,[0,5,124,125,127,149,181,185,189,191,193,195,198,201,204],[1.0,1.0,1.0,1.0,1.0,1.0,1.0,1.0,1.0,1.0,1.0,1.0,1.0,1.0,1.0])|\n",
            "|(460,[0,5,124,125,127,129,181,185,189,191,193,195,198,201,204],[1.0,1.0,1.0,1.0,1.0,1.0,1.0,1.0,1.0,1.0,1.0,1.0,1.0,1.0,1.0])|\n",
            "|(460,[0,5,124,125,127,130,181,185,189,191,193,195,198,201,204],[1.0,1.0,1.0,1.0,1.0,1.0,1.0,1.0,1.0,1.0,1.0,1.0,1.0,1.0,1.0])|\n",
            "|(460,[0,5,124,125,127,133,181,185,189,191,193,195,198,201,204],[1.0,1.0,1.0,1.0,1.0,1.0,1.0,1.0,1.0,1.0,1.0,1.0,1.0,1.0,1.0])|\n",
            "|(460,[0,5,124,125,127,134,181,185,189,191,193,195,198,201,204],[1.0,1.0,1.0,1.0,1.0,1.0,1.0,1.0,1.0,1.0,1.0,1.0,1.0,1.0,1.0])|\n",
            "|(460,[0,5,124,125,127,129,181,186,189,191,193,196,198,201,233],[1.0,1.0,1.0,1.0,1.0,1.0,1.0,1.0,1.0,1.0,1.0,1.0,1.0,1.0,1.0])|\n",
            "|(460,[0,5,123,125,127,133,181,186,189,191,193,195,198,201,204],[1.0,1.0,1.0,1.0,1.0,1.0,1.0,1.0,1.0,1.0,1.0,1.0,1.0,1.0,1.0])|\n",
            "|(460,[0,5,123,125,127,130,181,185,189,191,193,195,197,200,204],[1.0,1.0,1.0,1.0,1.0,1.0,1.0,1.0,1.0,1.0,1.0,1.0,1.0,1.0,1.0])|\n",
            "|(460,[0,5,124,125,127,134,181,186,189,191,193,196,197,202,233],[1.0,1.0,1.0,1.0,1.0,1.0,1.0,1.0,1.0,1.0,1.0,1.0,1.0,1.0,1.0])|\n",
            "|(460,[0,5,124,125,127,129,181,185,189,191,193,195,198,201,204],[1.0,1.0,1.0,1.0,1.0,1.0,1.0,1.0,1.0,1.0,1.0,1.0,1.0,1.0,1.0])|\n",
            "+-----------------------------------------------------------------------------------------------------------------------------+\n",
            "only showing top 20 rows\n",
            "\n"
          ]
        }
      ]
    },
    {
      "cell_type": "code",
      "source": [],
      "metadata": {
        "id": "bqY9QTi4lLxw"
      },
      "execution_count": null,
      "outputs": []
    },
    {
      "cell_type": "code",
      "source": [
        "# Import necessary libraries\n",
        "from pyspark.sql import SparkSession\n",
        "from pyspark.sql.utils import AnalysisException\n",
        "\n",
        "# Define the paths to save the Parquet files on Google Drive\n",
        "parquet_path1 = '/content/drive/My Drive/santander-product-recommendation/train_data.parquet'\n",
        "parquet_path2 = '/content/drive/My Drive/santander-product-recommendation/transformed_intermediate_data_0528.parquet'\n",
        "parquet_path3 = '/content/drive/My Drive/santander-product-recommendation/transformed_test_data.parquet'\n",
        "\n",
        "# Function to save DataFrame to Parquet with overwrite mode and error handling\n",
        "def save_dataframe(df, path):\n",
        "    try:\n",
        "        df.write.mode('overwrite').parquet(path)\n",
        "        print(f\"DataFrame saved to {path}\")\n",
        "    except AnalysisException as e:\n",
        "        print(f\"Failed to save DataFrame to {path}. Error: {e}\")"
      ],
      "metadata": {
        "id": "G8BszUpAk0MZ"
      },
      "execution_count": null,
      "outputs": []
    },
    {
      "cell_type": "code",
      "source": [
        "parquet_path4 = '/content/drive/My Drive/santander-product-recommendation/actual_intermediate_data_0528_processed.parquet'\n",
        "\n",
        "save_dataframe(intermediate_data_0528_processed, parquet_path4)"
      ],
      "metadata": {
        "colab": {
          "base_uri": "https://localhost:8080/"
        },
        "id": "0ZT0xXUhzDYy",
        "outputId": "39e27633-6b97-41f2-b4c3-502b8653bc2f"
      },
      "execution_count": null,
      "outputs": [
        {
          "output_type": "stream",
          "name": "stdout",
          "text": [
            "DataFrame saved to /content/drive/My Drive/santander-product-recommendation/actual_intermediate_data_0528_processed.parquet\n"
          ]
        }
      ]
    },
    {
      "cell_type": "code",
      "source": [],
      "metadata": {
        "id": "tnNfVDS7zDOR"
      },
      "execution_count": null,
      "outputs": []
    },
    {
      "cell_type": "code",
      "source": [],
      "metadata": {
        "id": "xbdMnda2k0BK"
      },
      "execution_count": null,
      "outputs": []
    },
    {
      "cell_type": "code",
      "source": [
        "save_dataframe(train_data, parquet_path1)"
      ],
      "metadata": {
        "colab": {
          "base_uri": "https://localhost:8080/"
        },
        "id": "dZn9Aj4Hk6r4",
        "outputId": "e148b02a-d7a6-4712-9be3-1e4cefb5aede"
      },
      "execution_count": null,
      "outputs": [
        {
          "output_type": "stream",
          "name": "stdout",
          "text": [
            "DataFrame saved to /content/drive/My Drive/santander-product-recommendation/train_data.parquet\n"
          ]
        }
      ]
    },
    {
      "cell_type": "code",
      "source": [
        "save_dataframe(transformed_intermediate_data_0528, parquet_path2)"
      ],
      "metadata": {
        "colab": {
          "base_uri": "https://localhost:8080/"
        },
        "id": "AM43dqUOlk36",
        "outputId": "b77fc78a-0345-42e8-baae-2a6cec6bd85e"
      },
      "execution_count": null,
      "outputs": [
        {
          "output_type": "stream",
          "name": "stdout",
          "text": [
            "DataFrame saved to /content/drive/My Drive/santander-product-recommendation/transformed_intermediate_data_0528.parquet\n"
          ]
        }
      ]
    },
    {
      "cell_type": "code",
      "source": [
        "save_dataframe(transformed_test_data, parquet_path3)"
      ],
      "metadata": {
        "colab": {
          "base_uri": "https://localhost:8080/"
        },
        "id": "4Og_RFVzlktq",
        "outputId": "57532ae6-be08-44a0-f910-9b243abf2846"
      },
      "execution_count": null,
      "outputs": [
        {
          "output_type": "stream",
          "name": "stdout",
          "text": [
            "DataFrame saved to /content/drive/My Drive/santander-product-recommendation/transformed_test_data.parquet\n"
          ]
        }
      ]
    },
    {
      "cell_type": "code",
      "source": [],
      "metadata": {
        "id": "9yeFYKp_ltPG"
      },
      "execution_count": null,
      "outputs": []
    },
    {
      "cell_type": "code",
      "source": [],
      "metadata": {
        "id": "vxSXMeINloxC"
      },
      "execution_count": null,
      "outputs": []
    },
    {
      "cell_type": "code",
      "source": [],
      "metadata": {
        "id": "n0g-hsTRenS_"
      },
      "execution_count": null,
      "outputs": []
    },
    {
      "cell_type": "code",
      "source": [],
      "metadata": {
        "id": "P4cAWYKtenKV"
      },
      "execution_count": null,
      "outputs": []
    },
    {
      "cell_type": "code",
      "source": [],
      "metadata": {
        "id": "Zqkcl15ck1wi"
      },
      "execution_count": null,
      "outputs": []
    },
    {
      "cell_type": "code",
      "source": [],
      "metadata": {
        "id": "YjgPxQ_3enA0"
      },
      "execution_count": null,
      "outputs": []
    },
    {
      "cell_type": "code",
      "source": [],
      "metadata": {
        "id": "d30YZvwSynSi"
      },
      "execution_count": null,
      "outputs": []
    },
    {
      "cell_type": "code",
      "source": [],
      "metadata": {
        "id": "d-pN9GoyynNv"
      },
      "execution_count": null,
      "outputs": []
    },
    {
      "cell_type": "code",
      "source": [],
      "metadata": {
        "id": "drtXpx9MwjVv"
      },
      "execution_count": null,
      "outputs": []
    }
  ]
}